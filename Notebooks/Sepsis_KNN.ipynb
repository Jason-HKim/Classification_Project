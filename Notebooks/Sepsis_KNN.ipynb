{
 "cells": [
  {
   "cell_type": "code",
   "execution_count": 76,
   "id": "empirical-legend",
   "metadata": {},
   "outputs": [],
   "source": [
    "import pandas as pd\n",
    "import numpy as np\n",
    "\n",
    "import seaborn as sns\n",
    "import matplotlib.pyplot as plt\n",
    "%matplotlib inline\n",
    "\n",
    "from sklearn.linear_model import LogisticRegression\n",
    "from sklearn.neighbors import KNeighborsClassifier\n",
    "from sklearn.model_selection import train_test_split, cross_val_score\n",
    "from sklearn.preprocessing import StandardScaler, PolynomialFeatures\n",
    "from sklearn.metrics import precision_score, recall_score, accuracy_score, roc_auc_score, roc_curve, f1_score, fbeta_score, log_loss\n",
    "from sklearn.metrics import confusion_matrix, classification_report, precision_recall_curve\n",
    "\n",
    "from sklearn import metrics"
   ]
  },
  {
   "cell_type": "code",
   "execution_count": 2,
   "id": "korean-hawaiian",
   "metadata": {},
   "outputs": [],
   "source": [
    "sepsis_df = pd.read_csv('sepsis_df.csv')"
   ]
  },
  {
   "cell_type": "code",
   "execution_count": 3,
   "id": "hired-latter",
   "metadata": {},
   "outputs": [
    {
     "data": {
      "text/html": [
       "<div>\n",
       "<style scoped>\n",
       "    .dataframe tbody tr th:only-of-type {\n",
       "        vertical-align: middle;\n",
       "    }\n",
       "\n",
       "    .dataframe tbody tr th {\n",
       "        vertical-align: top;\n",
       "    }\n",
       "\n",
       "    .dataframe thead th {\n",
       "        text-align: right;\n",
       "    }\n",
       "</style>\n",
       "<table border=\"1\" class=\"dataframe\">\n",
       "  <thead>\n",
       "    <tr style=\"text-align: right;\">\n",
       "      <th></th>\n",
       "      <th>HR</th>\n",
       "      <th>O2Sat</th>\n",
       "      <th>SBP</th>\n",
       "      <th>MAP</th>\n",
       "      <th>DBP</th>\n",
       "      <th>Resp</th>\n",
       "      <th>BUN</th>\n",
       "      <th>Calcium</th>\n",
       "      <th>Creatinine</th>\n",
       "      <th>Glucose</th>\n",
       "      <th>Potassium</th>\n",
       "      <th>Hct</th>\n",
       "      <th>Hgb</th>\n",
       "      <th>WBC</th>\n",
       "      <th>Platelets</th>\n",
       "      <th>Age</th>\n",
       "      <th>Gender</th>\n",
       "      <th>HospAdmTime</th>\n",
       "      <th>ICULOS</th>\n",
       "      <th>isSepsis</th>\n",
       "    </tr>\n",
       "  </thead>\n",
       "  <tbody>\n",
       "    <tr>\n",
       "      <th>0</th>\n",
       "      <td>58.0</td>\n",
       "      <td>95.0</td>\n",
       "      <td>143.0</td>\n",
       "      <td>77.0</td>\n",
       "      <td>47.0</td>\n",
       "      <td>11.0</td>\n",
       "      <td>100.0</td>\n",
       "      <td>7.9</td>\n",
       "      <td>2.5</td>\n",
       "      <td>78.0</td>\n",
       "      <td>5.1</td>\n",
       "      <td>27.8</td>\n",
       "      <td>9.7</td>\n",
       "      <td>11.0</td>\n",
       "      <td>158.0</td>\n",
       "      <td>75.91</td>\n",
       "      <td>0</td>\n",
       "      <td>-98.60</td>\n",
       "      <td>10</td>\n",
       "      <td>0</td>\n",
       "    </tr>\n",
       "    <tr>\n",
       "      <th>1</th>\n",
       "      <td>91.0</td>\n",
       "      <td>94.0</td>\n",
       "      <td>133.0</td>\n",
       "      <td>74.0</td>\n",
       "      <td>48.0</td>\n",
       "      <td>34.0</td>\n",
       "      <td>30.0</td>\n",
       "      <td>10.9</td>\n",
       "      <td>0.9</td>\n",
       "      <td>113.0</td>\n",
       "      <td>3.8</td>\n",
       "      <td>26.2</td>\n",
       "      <td>8.8</td>\n",
       "      <td>8.3</td>\n",
       "      <td>465.0</td>\n",
       "      <td>45.82</td>\n",
       "      <td>0</td>\n",
       "      <td>-1195.71</td>\n",
       "      <td>11</td>\n",
       "      <td>0</td>\n",
       "    </tr>\n",
       "    <tr>\n",
       "      <th>2</th>\n",
       "      <td>73.0</td>\n",
       "      <td>99.0</td>\n",
       "      <td>100.0</td>\n",
       "      <td>67.0</td>\n",
       "      <td>49.5</td>\n",
       "      <td>16.5</td>\n",
       "      <td>28.0</td>\n",
       "      <td>7.4</td>\n",
       "      <td>1.2</td>\n",
       "      <td>129.0</td>\n",
       "      <td>4.5</td>\n",
       "      <td>32.9</td>\n",
       "      <td>11.4</td>\n",
       "      <td>11.4</td>\n",
       "      <td>357.0</td>\n",
       "      <td>87.08</td>\n",
       "      <td>1</td>\n",
       "      <td>-2.23</td>\n",
       "      <td>2</td>\n",
       "      <td>0</td>\n",
       "    </tr>\n",
       "    <tr>\n",
       "      <th>3</th>\n",
       "      <td>89.0</td>\n",
       "      <td>100.0</td>\n",
       "      <td>141.0</td>\n",
       "      <td>85.0</td>\n",
       "      <td>57.0</td>\n",
       "      <td>17.0</td>\n",
       "      <td>9.0</td>\n",
       "      <td>8.4</td>\n",
       "      <td>0.7</td>\n",
       "      <td>137.0</td>\n",
       "      <td>3.5</td>\n",
       "      <td>32.2</td>\n",
       "      <td>11.2</td>\n",
       "      <td>10.6</td>\n",
       "      <td>184.0</td>\n",
       "      <td>65.79</td>\n",
       "      <td>1</td>\n",
       "      <td>-0.02</td>\n",
       "      <td>35</td>\n",
       "      <td>1</td>\n",
       "    </tr>\n",
       "    <tr>\n",
       "      <th>4</th>\n",
       "      <td>98.0</td>\n",
       "      <td>94.0</td>\n",
       "      <td>95.0</td>\n",
       "      <td>62.0</td>\n",
       "      <td>45.0</td>\n",
       "      <td>15.0</td>\n",
       "      <td>11.0</td>\n",
       "      <td>7.4</td>\n",
       "      <td>0.5</td>\n",
       "      <td>122.0</td>\n",
       "      <td>4.1</td>\n",
       "      <td>27.9</td>\n",
       "      <td>9.9</td>\n",
       "      <td>15.2</td>\n",
       "      <td>205.0</td>\n",
       "      <td>87.80</td>\n",
       "      <td>0</td>\n",
       "      <td>-122.18</td>\n",
       "      <td>10</td>\n",
       "      <td>0</td>\n",
       "    </tr>\n",
       "  </tbody>\n",
       "</table>\n",
       "</div>"
      ],
      "text/plain": [
       "     HR  O2Sat    SBP   MAP   DBP  Resp    BUN  Calcium  Creatinine  Glucose  \\\n",
       "0  58.0   95.0  143.0  77.0  47.0  11.0  100.0      7.9         2.5     78.0   \n",
       "1  91.0   94.0  133.0  74.0  48.0  34.0   30.0     10.9         0.9    113.0   \n",
       "2  73.0   99.0  100.0  67.0  49.5  16.5   28.0      7.4         1.2    129.0   \n",
       "3  89.0  100.0  141.0  85.0  57.0  17.0    9.0      8.4         0.7    137.0   \n",
       "4  98.0   94.0   95.0  62.0  45.0  15.0   11.0      7.4         0.5    122.0   \n",
       "\n",
       "   Potassium   Hct   Hgb   WBC  Platelets    Age  Gender  HospAdmTime  ICULOS  \\\n",
       "0        5.1  27.8   9.7  11.0      158.0  75.91       0       -98.60      10   \n",
       "1        3.8  26.2   8.8   8.3      465.0  45.82       0     -1195.71      11   \n",
       "2        4.5  32.9  11.4  11.4      357.0  87.08       1        -2.23       2   \n",
       "3        3.5  32.2  11.2  10.6      184.0  65.79       1        -0.02      35   \n",
       "4        4.1  27.9   9.9  15.2      205.0  87.80       0      -122.18      10   \n",
       "\n",
       "   isSepsis  \n",
       "0         0  \n",
       "1         0  \n",
       "2         0  \n",
       "3         1  \n",
       "4         0  "
      ]
     },
     "execution_count": 3,
     "metadata": {},
     "output_type": "execute_result"
    }
   ],
   "source": [
    "sepsis_df.head()"
   ]
  },
  {
   "cell_type": "code",
   "execution_count": 4,
   "id": "otherwise-little",
   "metadata": {
    "scrolled": true
   },
   "outputs": [
    {
     "data": {
      "text/plain": [
       "<bound method DataFrame.info of          HR  O2Sat    SBP    MAP   DBP  Resp    BUN  Calcium  Creatinine  \\\n",
       "0      58.0   95.0  143.0   77.0  47.0  11.0  100.0     7.90        2.50   \n",
       "1      91.0   94.0  133.0   74.0  48.0  34.0   30.0    10.90        0.90   \n",
       "2      73.0   99.0  100.0   67.0  49.5  16.5   28.0     7.40        1.20   \n",
       "3      89.0  100.0  141.0   85.0  57.0  17.0    9.0     8.40        0.70   \n",
       "4      98.0   94.0   95.0   62.0  45.0  15.0   11.0     7.40        0.50   \n",
       "...     ...    ...    ...    ...   ...   ...    ...      ...         ...   \n",
       "16616  74.0   97.0  120.0   72.0  44.0  12.0   14.0     7.50        0.79   \n",
       "16617  91.0   94.0  136.0   90.0  63.0  21.0   37.0     9.20        9.93   \n",
       "16618  73.0  100.0  120.0   78.0  58.0  14.5   11.0     4.79        1.13   \n",
       "16619  59.0   95.0  154.0  110.0  82.0  14.0    9.0     8.80        0.81   \n",
       "16620  81.0   99.0  122.0   71.0  58.0  20.0    8.0     8.80        0.58   \n",
       "\n",
       "       Glucose  Potassium   Hct   Hgb   WBC  Platelets    Age  Gender  \\\n",
       "0         78.0       5.10  27.8   9.7  11.0      158.0  75.91       0   \n",
       "1        113.0       3.80  26.2   8.8   8.3      465.0  45.82       0   \n",
       "2        129.0       4.50  32.9  11.4  11.4      357.0  87.08       1   \n",
       "3        137.0       3.50  32.2  11.2  10.6      184.0  65.79       1   \n",
       "4        122.0       4.10  27.9   9.9  15.2      205.0  87.80       0   \n",
       "...        ...        ...   ...   ...   ...        ...    ...     ...   \n",
       "16616     90.0       4.10  26.3   8.4   6.4       96.0  81.00       0   \n",
       "16617    100.0       4.50  30.2   9.5   2.8      198.0  45.00       1   \n",
       "16618    141.5       4.65  30.3  10.3   7.2       71.0  71.00       1   \n",
       "16619    116.0       3.50  39.2  13.1   7.0      154.0  76.00       1   \n",
       "16620    135.0       4.00  42.7  13.8  12.6      238.0  84.00       0   \n",
       "\n",
       "       HospAdmTime  ICULOS  isSepsis  \n",
       "0           -98.60      10         0  \n",
       "1         -1195.71      11         0  \n",
       "2            -2.23       2         0  \n",
       "3            -0.02      35         1  \n",
       "4          -122.18      10         0  \n",
       "...            ...     ...       ...  \n",
       "16616       -66.13      16         0  \n",
       "16617        -4.55      23         0  \n",
       "16618       -29.57      10         0  \n",
       "16619       -14.90      19         0  \n",
       "16620        -6.69      25         0  \n",
       "\n",
       "[16621 rows x 20 columns]>"
      ]
     },
     "execution_count": 4,
     "metadata": {},
     "output_type": "execute_result"
    }
   ],
   "source": [
    "sepsis_df.info"
   ]
  },
  {
   "cell_type": "markdown",
   "id": "imported-characterization",
   "metadata": {},
   "source": [
    "## Train, Test, and Validation Datasets"
   ]
  },
  {
   "cell_type": "code",
   "execution_count": 6,
   "id": "republican-certificate",
   "metadata": {},
   "outputs": [],
   "source": [
    "X = sepsis_df.drop(columns=['isSepsis'])\n",
    "y = sepsis_df.isSepsis"
   ]
  },
  {
   "cell_type": "code",
   "execution_count": 150,
   "id": "colonial-connecticut",
   "metadata": {},
   "outputs": [],
   "source": [
    "X_train, X_test, y_train, y_test = train_test_split(X, y, test_size=0.2, random_state=42)\n",
    "X_train, X_val, y_train, y_val = train_test_split(X_train, y_train, test_size=0.2, random_state=42)"
   ]
  },
  {
   "cell_type": "code",
   "execution_count": 151,
   "id": "southeast-chrome",
   "metadata": {},
   "outputs": [],
   "source": [
    "datasets = [X_train, y_train, X_val, y_val, X_test, y_test]"
   ]
  },
  {
   "cell_type": "code",
   "execution_count": 152,
   "id": "figured-protection",
   "metadata": {},
   "outputs": [
    {
     "name": "stdout",
     "output_type": "stream",
     "text": [
      "(10636, 19)\n",
      "(10636,)\n",
      "(2660, 19)\n",
      "(2660,)\n",
      "(3325, 19)\n",
      "(3325,)\n"
     ]
    }
   ],
   "source": [
    "for d in datasets:\n",
    "    print(d.shape)"
   ]
  },
  {
   "cell_type": "code",
   "execution_count": 153,
   "id": "tender-objective",
   "metadata": {},
   "outputs": [
    {
     "data": {
      "text/plain": [
       "Counter({0: 10349, 1: 287})"
      ]
     },
     "execution_count": 153,
     "metadata": {},
     "output_type": "execute_result"
    }
   ],
   "source": [
    "# very imbalanced dataset, needs resampling!\n",
    "from collections import Counter\n",
    "Counter(y_train)"
   ]
  },
  {
   "cell_type": "code",
   "execution_count": 154,
   "id": "inside-signal",
   "metadata": {},
   "outputs": [],
   "source": [
    "# resampling using random oversampling\n",
    "from imblearn.over_sampling import RandomOverSampler\n",
    "ros = RandomOverSampler(random_state=0)\n",
    "\n",
    "X_train, y_train = ros.fit_resample(X_train,y_train)"
   ]
  },
  {
   "cell_type": "code",
   "execution_count": 155,
   "id": "united-number",
   "metadata": {},
   "outputs": [
    {
     "data": {
      "text/plain": [
       "Counter({0: 10349, 1: 10349})"
      ]
     },
     "execution_count": 155,
     "metadata": {},
     "output_type": "execute_result"
    }
   ],
   "source": [
    "Counter(y_train)"
   ]
  },
  {
   "cell_type": "code",
   "execution_count": null,
   "id": "applicable-bottle",
   "metadata": {},
   "outputs": [],
   "source": []
  },
  {
   "cell_type": "markdown",
   "id": "laughing-cookie",
   "metadata": {},
   "source": [
    "## KNN (scaled features)"
   ]
  },
  {
   "cell_type": "code",
   "execution_count": 156,
   "id": "modular-knowing",
   "metadata": {},
   "outputs": [],
   "source": [
    "# import standard scaler\n",
    "scaler = StandardScaler()\n",
    "\n",
    "X_train_scaled = scaler.fit_transform(X_train)\n",
    "X_val_scaled = scaler.fit_transform(X_val)\n",
    "X_test_scaled = scaler.fit_transform(X_test)"
   ]
  },
  {
   "cell_type": "code",
   "execution_count": 157,
   "id": "split-confidentiality",
   "metadata": {},
   "outputs": [],
   "source": [
    "knn = KNeighborsClassifier(n_neighbors = 5, weights='distance')\n",
    "knn.fit(X_train_scaled, y_train)\n",
    "\n",
    "y_train_pred = knn.predict(X_train_scaled)\n",
    "y_val_pred = knn.predict(X_val_scaled)"
   ]
  },
  {
   "cell_type": "code",
   "execution_count": 65,
   "id": "artistic-services",
   "metadata": {},
   "outputs": [],
   "source": [
    "def scores(y_true, y_pred):\n",
    "    accuracy = accuracy_score(y_true, y_pred)\n",
    "    precision = precision_score(y_true, y_pred)\n",
    "    recall = recall_score(y_true, y_pred)\n",
    "    f1 = f1_score(y_true, y_pred)\n",
    "    fbeta = fbeta_score(y_true, y_pred, beta=2)\n",
    "\n",
    "    print(f'Accuracy score: {accuracy}')\n",
    "    print(f'Precision score: {precision}')\n",
    "    print(f'Recall: {recall}')\n",
    "    print(f'F1: {f1}')\n",
    "    print(f'F-beta (beta=2): {fbeta}')"
   ]
  },
  {
   "cell_type": "markdown",
   "id": "trained-instrumentation",
   "metadata": {},
   "source": [
    "Training Set Scores"
   ]
  },
  {
   "cell_type": "code",
   "execution_count": 66,
   "id": "cubic-payday",
   "metadata": {
    "scrolled": true
   },
   "outputs": [
    {
     "name": "stdout",
     "output_type": "stream",
     "text": [
      "Accuracy score: 1.0\n",
      "Precision score: 1.0\n",
      "Recall: 1.0\n",
      "F1: 1.0\n",
      "F-beta (beta=2): 1.0\n"
     ]
    }
   ],
   "source": [
    "scores(y_train, y_train_pred)"
   ]
  },
  {
   "cell_type": "markdown",
   "id": "nominated-catalyst",
   "metadata": {},
   "source": [
    "Validation Set Scores"
   ]
  },
  {
   "cell_type": "code",
   "execution_count": 75,
   "id": "artistic-vocabulary",
   "metadata": {},
   "outputs": [
    {
     "name": "stdout",
     "output_type": "stream",
     "text": [
      "Accuracy score: 0.8902255639097745\n",
      "Precision score: 0.13013698630136986\n",
      "Recall: 0.5\n",
      "F1: 0.20652173913043478\n",
      "F-beta (beta=2): 0.31879194630872487\n"
     ]
    }
   ],
   "source": [
    "scores(y_val, y_val_pred)"
   ]
  },
  {
   "cell_type": "markdown",
   "id": "underlying-central",
   "metadata": {},
   "source": [
    "## KNN (Scaled Features, 10 Fold CV)"
   ]
  },
  {
   "cell_type": "code",
   "execution_count": 77,
   "id": "english-separation",
   "metadata": {},
   "outputs": [],
   "source": [
    "# import standard scaler\n",
    "scaler = StandardScaler()\n",
    "\n",
    "X_train_scaled = scaler.fit_transform(X_train)\n",
    "X_val_scaled = scaler.fit_transform(X_val)\n",
    "X_test_scaled = scaler.fit_transform(X_test)"
   ]
  },
  {
   "cell_type": "code",
   "execution_count": 78,
   "id": "suffering-curve",
   "metadata": {},
   "outputs": [
    {
     "data": {
      "text/plain": [
       "KNeighborsClassifier(weights='distance')"
      ]
     },
     "execution_count": 78,
     "metadata": {},
     "output_type": "execute_result"
    }
   ],
   "source": [
    "knn = KNeighborsClassifier(n_neighbors = 5, weights='distance')\n",
    "knn.fit(X_train_scaled, y_train)\n",
    "\n",
    "y_train_pred = knn.predict(X_train_scaled)\n",
    "y_val_pred = knn.predict(X_val_scaled)"
   ]
  },
  {
   "cell_type": "code",
   "execution_count": 90,
   "id": "sacred-philippines",
   "metadata": {},
   "outputs": [],
   "source": [
    "from sklearn.metrics import make_scorer\n",
    "# creating a new scoring metric that uses beta = 2\n",
    "f_beta_2 = make_scorer(fbeta_score, beta=2)"
   ]
  },
  {
   "cell_type": "code",
   "execution_count": 105,
   "id": "standing-combine",
   "metadata": {},
   "outputs": [],
   "source": [
    "training_accuracy_scores = cross_val_score(knn, X_train_scaled, y_train, cv=10, scoring='accuracy')\n",
    "training_fbeta_scores = cross_val_score(knn, X_train_scaled, y_train, cv=10, scoring=f_beta_2)"
   ]
  },
  {
   "cell_type": "code",
   "execution_count": 121,
   "id": "judicial-merchandise",
   "metadata": {},
   "outputs": [],
   "source": [
    "def ten_cv_scores(train_or_val, X_dataset, y_dataset):\n",
    "    accuracy_scores = cross_val_score(knn, X_dataset, y_dataset, cv=10, scoring='accuracy')\n",
    "    fbeta_scores = cross_val_score(knn, X_dataset, y_dataset, cv=10, scoring=f_beta_2)\n",
    "    \n",
    "    \n",
    "    print(f'Scores for X {train_or_val} set:\\n')\n",
    "    print(f'F_beta (b=2) scores:\\n {fbeta_scores}\\n')\n",
    "    print(f'F_beta (b=2) mean score:\\n {fbeta_scores.mean()}\\n\\n')\n",
    "\n",
    "    print(f'Accuracy scores:\\n {accuracy_scores}\\n')\n",
    "    print(f'Accuracy mean score:\\n {accuracy_scores.mean()}\\n')"
   ]
  },
  {
   "cell_type": "code",
   "execution_count": 122,
   "id": "suspected-reading",
   "metadata": {},
   "outputs": [
    {
     "name": "stdout",
     "output_type": "stream",
     "text": [
      "Scores for X train set:\n",
      "\n",
      "F_beta (b=2) scores:\n",
      " [0.98853868 0.99213957 0.9919494  0.99043062 0.99213957 0.99099962\n",
      " 0.99043062 0.9902411  0.99175139 0.99232982]\n",
      "\n",
      "F_beta (b=2) mean score:\n",
      " 0.991095039105001\n",
      "\n",
      "\n",
      "Accuracy scores:\n",
      " [0.97101449 0.98019324 0.97971014 0.97584541 0.98019324 0.97729469\n",
      " 0.97584541 0.97536232 0.97921701 0.98066699]\n",
      "\n",
      "Accuracy mean score:\n",
      " 0.9775342939131368\n",
      "\n"
     ]
    }
   ],
   "source": [
    "ten_cv_scores('train', X_train_scaled, y_train)"
   ]
  },
  {
   "cell_type": "code",
   "execution_count": 123,
   "id": "atmospheric-antigua",
   "metadata": {
    "scrolled": true
   },
   "outputs": [
    {
     "name": "stdout",
     "output_type": "stream",
     "text": [
      "Scores for X val set:\n",
      "\n",
      "F_beta (b=2) scores:\n",
      " [0.33333333 0.         0.48387097 0.33333333 0.28571429 0.29411765\n",
      " 0.         0.         0.         0.        ]\n",
      "\n",
      "F_beta (b=2) mean score:\n",
      " 0.17303695671817113\n",
      "\n",
      "\n",
      "Accuracy scores:\n",
      " [0.98120301 0.97368421 0.98496241 0.98120301 0.97368421 0.97744361\n",
      " 0.96992481 0.96992481 0.96992481 0.96616541]\n",
      "\n",
      "Accuracy mean score:\n",
      " 0.974812030075188\n",
      "\n"
     ]
    }
   ],
   "source": [
    "ten_cv_scores('val',X_val_scaled, y_val)"
   ]
  },
  {
   "cell_type": "code",
   "execution_count": 147,
   "id": "handy-softball",
   "metadata": {},
   "outputs": [],
   "source": [
    "plt.style.use('ggplot')\n",
    "%matplotlib inline\n",
    "np.set_printoptions(suppress=True)"
   ]
  },
  {
   "cell_type": "code",
   "execution_count": 148,
   "id": "atmospheric-executive",
   "metadata": {},
   "outputs": [
    {
     "data": {
      "image/png": "[encoded data removed]",
      "text/plain": [
       "<Figure size 480x320 with 1 Axes>"
      ]
     },
     "metadata": {
      "needs_background": "light"
     },
     "output_type": "display_data"
    }
   ],
   "source": [
    "precision_curve, recall_curve, threshold_curve = precision_recall_curve(y_val, knn.predict_proba(X_val_scaled)[:,1] )\n",
    "\n",
    "plt.figure(dpi=80)\n",
    "plt.plot(threshold_curve, precision_curve[1:],label='precision')\n",
    "plt.plot(threshold_curve, recall_curve[1:], label='recall')\n",
    "plt.legend(loc='lower left')\n",
    "plt.xlabel('Threshold)');\n",
    "plt.title('Precision and Recall Curves');"
   ]
  },
  {
   "cell_type": "markdown",
   "id": "distinct-structure",
   "metadata": {},
   "source": [
    "### KNN Confusion Matrix"
   ]
  },
  {
   "cell_type": "code",
   "execution_count": 149,
   "id": "jewish-locator",
   "metadata": {},
   "outputs": [
    {
     "data": {
      "image/png": "[encoded data removed]",
      "text/plain": [
       "<Figure size 900x600 with 2 Axes>"
      ]
     },
     "metadata": {
      "needs_background": "light"
     },
     "output_type": "display_data"
    }
   ],
   "source": [
    "knn_confusion = confusion_matrix(y_val, knn.predict(X_val_scaled))\n",
    "plt.figure(dpi=150)\n",
    "sns.heatmap(knn_confusion, cmap=plt.cm.Blues, annot=True, square=True, fmt='d',\n",
    "           xticklabels=['NoSepsis', 'Sepsis'],\n",
    "           yticklabels=['NoSepsis', 'Sepsis']);\n",
    "\n",
    "plt.xlabel('Predicted Sepsis')\n",
    "plt.ylabel('Actual Sepsis')\n",
    "plt.title('KNN confusion matrix');"
   ]
  },
  {
   "cell_type": "markdown",
   "id": "correct-spell",
   "metadata": {},
   "source": [
    "### ROC AUC"
   ]
  },
  {
   "cell_type": "code",
   "execution_count": 133,
   "id": "painted-affairs",
   "metadata": {},
   "outputs": [],
   "source": [
    "fpr, tpr, thresholds = roc_curve(y_val, knn.predict_proba(X_val_scaled)[:,1])"
   ]
  },
  {
   "cell_type": "code",
   "execution_count": 135,
   "id": "molecular-memorabilia",
   "metadata": {},
   "outputs": [
    {
     "name": "stdout",
     "output_type": "stream",
     "text": [
      "ROC AUC score =  0.7087797376568356\n"
     ]
    },
    {
     "data": {
      "image/png": "[encoded data removed]",
      "text/plain": [
       "<Figure size 432x288 with 1 Axes>"
      ]
     },
     "metadata": {
      "needs_background": "light"
     },
     "output_type": "display_data"
    }
   ],
   "source": [
    "plt.plot(fpr, tpr,lw=2)\n",
    "plt.plot([0,1],[0,1],c='violet',ls='--')\n",
    "plt.xlim([-0.05,1.05])\n",
    "plt.ylim([-0.05,1.05])\n",
    "\n",
    "\n",
    "plt.xlabel('False positive rate')\n",
    "plt.ylabel('True positive rate')\n",
    "plt.title('ROC curve for Sepsis Classification');\n",
    "print(\"ROC AUC score = \", roc_auc_score(y_val, knn.predict_proba(X_val_scaled)[:,1]))"
   ]
  },
  {
   "cell_type": "markdown",
   "id": "engaging-opposition",
   "metadata": {},
   "source": [
    "## Optimizing K"
   ]
  },
  {
   "cell_type": "code",
   "execution_count": 141,
   "id": "horizontal-equipment",
   "metadata": {},
   "outputs": [],
   "source": [
    "from sklearn.model_selection import GridSearchCV\n",
    "k_range = list(range(1,50))\n",
    "\n",
    "param_grid = dict(n_neighbors=k_range, weights = ['uniform', 'distance'])"
   ]
  },
  {
   "cell_type": "code",
   "execution_count": 142,
   "id": "affecting-pickup",
   "metadata": {},
   "outputs": [],
   "source": [
    "grid = GridSearchCV(knn, param_grid, cv=10, scoring=f_beta_2)"
   ]
  },
  {
   "cell_type": "code",
   "execution_count": 143,
   "id": "continued-mineral",
   "metadata": {},
   "outputs": [
    {
     "data": {
      "text/plain": [
       "GridSearchCV(cv=10, estimator=KNeighborsClassifier(weights='distance'),\n",
       "             param_grid={'n_neighbors': [1, 2, 3, 4, 5, 6, 7, 8, 9, 10, 11, 12,\n",
       "                                         13, 14, 15, 16, 17, 18, 19, 20, 21, 22,\n",
       "                                         23, 24, 25, 26, 27, 28, 29, 30, ...],\n",
       "                         'weights': ['uniform', 'distance']},\n",
       "             scoring=make_scorer(fbeta_score, beta=2))"
      ]
     },
     "execution_count": 143,
     "metadata": {},
     "output_type": "execute_result"
    }
   ],
   "source": [
    "grid.fit(X,y)"
   ]
  },
  {
   "cell_type": "code",
   "execution_count": 144,
   "id": "hungry-africa",
   "metadata": {},
   "outputs": [
    {
     "name": "stdout",
     "output_type": "stream",
     "text": [
      "Best params:  {'n_neighbors': 1, 'weights': 'uniform'}\n",
      "Best estimator:  KNeighborsClassifier(n_neighbors=1)\n",
      "Best score:  0.248363299799336\n"
     ]
    }
   ],
   "source": [
    "print(\"Best params: \", grid.best_params_)\n",
    "print(\"Best estimator: \", grid.best_estimator_)\n",
    "print(\"Best score: \", grid.best_score_)"
   ]
  },
  {
   "cell_type": "markdown",
   "id": "hazardous-immunology",
   "metadata": {},
   "source": [
    "## Log Loss"
   ]
  },
  {
   "cell_type": "code",
   "execution_count": 146,
   "id": "affecting-denial",
   "metadata": {},
   "outputs": [
    {
     "name": "stdout",
     "output_type": "stream",
     "text": [
      "Log-loss on KNN Model: 2.1538\n"
     ]
    }
   ],
   "source": [
    "print(\"Log-loss on KNN Model: {:6.4f}\".format(log_loss(y_val, knn.predict_proba(X_val_scaled))))\n"
   ]
  },
  {
   "cell_type": "code",
   "execution_count": null,
   "id": "earlier-recall",
   "metadata": {},
   "outputs": [],
   "source": []
  }
 ],
 "metadata": {
  "kernelspec": {
   "display_name": "Python [conda env:metis] *",
   "language": "python",
   "name": "conda-env-metis-py"
  },
  "language_info": {
   "codemirror_mode": {
    "name": "ipython",
    "version": 3
   },
   "file_extension": ".py",
   "mimetype": "text/x-python",
   "name": "python",
   "nbconvert_exporter": "python",
   "pygments_lexer": "ipython3",
   "version": "3.8.8"
  }
 },
 "nbformat": 4,
 "nbformat_minor": 5
}
