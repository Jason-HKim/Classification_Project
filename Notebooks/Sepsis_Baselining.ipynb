{
 "cells": [
  {
   "cell_type": "code",
   "execution_count": 5,
   "id": "whole-receipt",
   "metadata": {},
   "outputs": [],
   "source": [
    "import pandas as pd\n",
    "import numpy as np\n",
    "\n",
    "import matplotlib.pyplot as plt\n",
    "import seaborn as sns\n",
    "\n",
    "%matplotlib inline\n",
    "\n",
    "from sklearn.model_selection import train_test_split\n",
    "from sklearn.metrics import classification_report\n",
    "from sklearn.metrics import precision_score, recall_score, accuracy_score, roc_auc_score, f1_score, fbeta_score, log_loss\n",
    "from sklearn.metrics import confusion_matrix, precision_recall_curve\n",
    "from sklearn.linear_model import LogisticRegression\n",
    "from sklearn.metrics import roc_curve, auc\n",
    "\n",
    "# preprocessing\n",
    "from sklearn.preprocessing import StandardScaler\n",
    "from sklearn.neighbors import KNeighborsClassifier\n",
    "from sklearn import metrics"
   ]
  },
  {
   "cell_type": "code",
   "execution_count": 6,
   "id": "pediatric-malta",
   "metadata": {},
   "outputs": [],
   "source": [
    "sepsis_df = pd.read_csv('../sepsis_df.csv')"
   ]
  },
  {
   "cell_type": "code",
   "execution_count": 7,
   "id": "strange-bachelor",
   "metadata": {},
   "outputs": [
    {
     "data": {
      "text/plain": [
       "<bound method DataFrame.info of          HR  O2Sat    SBP    MAP   DBP  Resp    BUN  Calcium  Creatinine  \\\n",
       "0      58.0   95.0  143.0   77.0  47.0  11.0  100.0     7.90        2.50   \n",
       "1      91.0   94.0  133.0   74.0  48.0  34.0   30.0    10.90        0.90   \n",
       "2      73.0   99.0  100.0   67.0  49.5  16.5   28.0     7.40        1.20   \n",
       "3      89.0  100.0  141.0   85.0  57.0  17.0    9.0     8.40        0.70   \n",
       "4      98.0   94.0   95.0   62.0  45.0  15.0   11.0     7.40        0.50   \n",
       "...     ...    ...    ...    ...   ...   ...    ...      ...         ...   \n",
       "16616  74.0   97.0  120.0   72.0  44.0  12.0   14.0     7.50        0.79   \n",
       "16617  91.0   94.0  136.0   90.0  63.0  21.0   37.0     9.20        9.93   \n",
       "16618  73.0  100.0  120.0   78.0  58.0  14.5   11.0     4.79        1.13   \n",
       "16619  59.0   95.0  154.0  110.0  82.0  14.0    9.0     8.80        0.81   \n",
       "16620  81.0   99.0  122.0   71.0  58.0  20.0    8.0     8.80        0.58   \n",
       "\n",
       "       Glucose  Potassium   Hct   Hgb   WBC  Platelets    Age  Gender  \\\n",
       "0         78.0       5.10  27.8   9.7  11.0      158.0  75.91       0   \n",
       "1        113.0       3.80  26.2   8.8   8.3      465.0  45.82       0   \n",
       "2        129.0       4.50  32.9  11.4  11.4      357.0  87.08       1   \n",
       "3        137.0       3.50  32.2  11.2  10.6      184.0  65.79       1   \n",
       "4        122.0       4.10  27.9   9.9  15.2      205.0  87.80       0   \n",
       "...        ...        ...   ...   ...   ...        ...    ...     ...   \n",
       "16616     90.0       4.10  26.3   8.4   6.4       96.0  81.00       0   \n",
       "16617    100.0       4.50  30.2   9.5   2.8      198.0  45.00       1   \n",
       "16618    141.5       4.65  30.3  10.3   7.2       71.0  71.00       1   \n",
       "16619    116.0       3.50  39.2  13.1   7.0      154.0  76.00       1   \n",
       "16620    135.0       4.00  42.7  13.8  12.6      238.0  84.00       0   \n",
       "\n",
       "       HospAdmTime  ICULOS  isSepsis  \n",
       "0           -98.60      10         0  \n",
       "1         -1195.71      11         0  \n",
       "2            -2.23       2         0  \n",
       "3            -0.02      35         1  \n",
       "4          -122.18      10         0  \n",
       "...            ...     ...       ...  \n",
       "16616       -66.13      16         0  \n",
       "16617        -4.55      23         0  \n",
       "16618       -29.57      10         0  \n",
       "16619       -14.90      19         0  \n",
       "16620        -6.69      25         0  \n",
       "\n",
       "[16621 rows x 20 columns]>"
      ]
     },
     "execution_count": 7,
     "metadata": {},
     "output_type": "execute_result"
    }
   ],
   "source": [
    "sepsis_df.info"
   ]
  },
  {
   "cell_type": "code",
   "execution_count": 3,
   "id": "excellent-profit",
   "metadata": {},
   "outputs": [],
   "source": [
    "# create X and y for model\n",
    "X = sepsis_df.drop(columns=['isSepsis'])\n",
    "y = sepsis_df.isSepsis"
   ]
  },
  {
   "cell_type": "code",
   "execution_count": 5,
   "id": "athletic-strip",
   "metadata": {},
   "outputs": [
    {
     "name": "stderr",
     "output_type": "stream",
     "text": [
      "/Users/jasonkim/opt/anaconda3/envs/metis/lib/python3.8/site-packages/seaborn/_decorators.py:36: FutureWarning: Pass the following variable as a keyword arg: x. From version 0.12, the only valid positional argument will be `data`, and passing other arguments without an explicit keyword will result in an error or misinterpretation.\n",
      "  warnings.warn(\n"
     ]
    },
    {
     "data": {
      "text/plain": [
       "<AxesSubplot:xlabel='isSepsis', ylabel='count'>"
      ]
     },
     "execution_count": 5,
     "metadata": {},
     "output_type": "execute_result"
    },
    {
     "data": {
      "image/png": "[encoded data removed]",
      "text/plain": [
       "<Figure size 432x288 with 1 Axes>"
      ]
     },
     "metadata": {
      "needs_background": "light"
     },
     "output_type": "display_data"
    }
   ],
   "source": [
    "# highly imbalanced dataset!\n",
    "y.value_counts()\n",
    "sns.countplot(y)"
   ]
  },
  {
   "cell_type": "code",
   "execution_count": 6,
   "id": "rural-duration",
   "metadata": {},
   "outputs": [
    {
     "data": {
      "text/plain": [
       "Counter({0: 16156, 1: 465})"
      ]
     },
     "execution_count": 6,
     "metadata": {},
     "output_type": "execute_result"
    }
   ],
   "source": [
    "from collections import Counter\n",
    "Counter(y)"
   ]
  },
  {
   "cell_type": "code",
   "execution_count": 10,
   "id": "unique-midnight",
   "metadata": {},
   "outputs": [
    {
     "data": {
      "text/plain": [
       "0.028781876702154"
      ]
     },
     "execution_count": 10,
     "metadata": {},
     "output_type": "execute_result"
    }
   ],
   "source": [
    "Counter(y)[1]/Counter(y)[0]"
   ]
  },
  {
   "cell_type": "markdown",
   "id": "expired-spain",
   "metadata": {},
   "source": [
    "### Logistic Regression w/ All Features"
   ]
  },
  {
   "cell_type": "code",
   "execution_count": 11,
   "id": "cordless-cornell",
   "metadata": {},
   "outputs": [],
   "source": [
    "# splitting data into Train, Val, & Test sets\n",
    "X_train, X_test, y_train, y_test = train_test_split(X, y, test_size=0.2, random_state=42)"
   ]
  },
  {
   "cell_type": "markdown",
   "id": "governing-phone",
   "metadata": {},
   "source": [
    "Random Oversampling:"
   ]
  },
  {
   "cell_type": "code",
   "execution_count": 12,
   "id": "received-kazakhstan",
   "metadata": {},
   "outputs": [],
   "source": [
    "# resampling using random oversampling\n",
    "from imblearn.over_sampling import RandomOverSampler\n",
    "ros = RandomOverSampler(random_state=0)\n",
    "\n",
    "X_train, y_train = ros.fit_resample(X_train,y_train)"
   ]
  },
  {
   "cell_type": "code",
   "execution_count": 13,
   "id": "vocal-correspondence",
   "metadata": {},
   "outputs": [
    {
     "name": "stderr",
     "output_type": "stream",
     "text": [
      "/Users/jasonkim/opt/anaconda3/envs/metis/lib/python3.8/site-packages/seaborn/_decorators.py:36: FutureWarning: Pass the following variable as a keyword arg: x. From version 0.12, the only valid positional argument will be `data`, and passing other arguments without an explicit keyword will result in an error or misinterpretation.\n",
      "  warnings.warn(\n"
     ]
    },
    {
     "data": {
      "text/plain": [
       "<AxesSubplot:xlabel='isSepsis', ylabel='count'>"
      ]
     },
     "execution_count": 13,
     "metadata": {},
     "output_type": "execute_result"
    },
    {
     "data": {
      "image/png": "[encoded data removed]",
      "text/plain": [
       "<Figure size 432x288 with 1 Axes>"
      ]
     },
     "metadata": {
      "needs_background": "light"
     },
     "output_type": "display_data"
    }
   ],
   "source": [
    "sns.countplot(y_train)"
   ]
  },
  {
   "cell_type": "code",
   "execution_count": 14,
   "id": "regulation-bundle",
   "metadata": {},
   "outputs": [
    {
     "data": {
      "text/plain": [
       "Counter({0: 12933, 1: 12933})"
      ]
     },
     "execution_count": 14,
     "metadata": {},
     "output_type": "execute_result"
    }
   ],
   "source": [
    "Counter(y_train)"
   ]
  },
  {
   "cell_type": "markdown",
   "id": "native-ethnic",
   "metadata": {},
   "source": [
    "Scaling Features:"
   ]
  },
  {
   "cell_type": "code",
   "execution_count": 15,
   "id": "downtown-exposure",
   "metadata": {},
   "outputs": [],
   "source": [
    "# scaling train and test sets\n",
    "scaler = StandardScaler()\n",
    "\n",
    "X_train_scaled = scaler.fit_transform(X_train)\n",
    "X_test_scaled = scaler.fit_transform(X_test)"
   ]
  },
  {
   "cell_type": "code",
   "execution_count": 17,
   "id": "lined-maximum",
   "metadata": {},
   "outputs": [],
   "source": [
    "logit = LogisticRegression(C=1000)\n",
    "logit.fit(X_train_scaled, y_train)\n",
    "logit_y_pred = logit.predict(X_test_scaled)\n",
    "logit_confusion = confusion_matrix(y_test, logit_y_pred)"
   ]
  },
  {
   "cell_type": "code",
   "execution_count": 19,
   "id": "coupled-singing",
   "metadata": {},
   "outputs": [],
   "source": [
    "logit_score = logit.predict_proba(X_test_scaled)[:,1]\n",
    "fpr, tpr, thresholds = roc_curve(y_test, logit_score)\n",
    "roc_auc = auc(fpr, tpr)"
   ]
  },
  {
   "cell_type": "code",
   "execution_count": 20,
   "id": "amber-clearance",
   "metadata": {},
   "outputs": [
    {
     "name": "stdout",
     "output_type": "stream",
     "text": [
      "              precision    recall  f1-score   support\n",
      "\n",
      "           0       0.99      0.53      0.69      3223\n",
      "           1       0.06      0.87      0.10       102\n",
      "\n",
      "    accuracy                           0.54      3325\n",
      "   macro avg       0.52      0.70      0.40      3325\n",
      "weighted avg       0.96      0.54      0.67      3325\n",
      "\n"
     ]
    }
   ],
   "source": [
    "print(classification_report(y_test, logit_y_pred))"
   ]
  },
  {
   "cell_type": "code",
   "execution_count": 33,
   "id": "measured-constitution",
   "metadata": {},
   "outputs": [],
   "source": [
    "def scores(y_true, y_pred):\n",
    "    accuracy = accuracy_score(y_true, y_pred)\n",
    "    precision = precision_score(y_true, y_pred)\n",
    "    recall = recall_score(y_true, y_pred)\n",
    "    f1 = f1_score(y_true, y_pred)\n",
    "    fbeta = fbeta_score(y_true, y_pred, beta=2)\n",
    "    roc_auc = roc_auc_score(y_true, y_pred)\n",
    "\n",
    "    print(f'Accuracy score: {accuracy}')\n",
    "    print(f'Precision score: {precision}')\n",
    "    print(f'Recall: {recall}')\n",
    "    print(f'F1: {f1}')\n",
    "    print(f'F-beta (beta=2): {fbeta}')\n",
    "    print(f'ROC-AUC: {roc_auc}')"
   ]
  },
  {
   "cell_type": "code",
   "execution_count": 34,
   "id": "desirable-manufacturer",
   "metadata": {},
   "outputs": [
    {
     "name": "stdout",
     "output_type": "stream",
     "text": [
      "Accuracy score: 0.5389473684210526\n",
      "Precision score: 0.05531385954008701\n",
      "Recall: 0.8725490196078431\n",
      "F1: 0.10403272939801285\n",
      "F-beta (beta=2): 0.22062469013386218\n",
      "ROC-AUC: 0.7004693593230031\n"
     ]
    }
   ],
   "source": [
    "scores(y_test, logit_y_pred)"
   ]
  },
  {
   "cell_type": "code",
   "execution_count": 24,
   "id": "imperial-portsmouth",
   "metadata": {},
   "outputs": [],
   "source": [
    "def make_confusion_matrix(model, threshold=0.5):\n",
    "    y_predict = (model.predict_proba(X_test_scaled)[:, 1] >= threshold)\n",
    "    sepsis_confusion = confusion_matrix(y_test, y_predict)\n",
    "    plt.figure(dpi=80)\n",
    "    sns.heatmap(sepsis_confusion, cmap=plt.cm.Blues, annot=True, square=True, fmt='d',\n",
    "           xticklabels=['No Sepsis', 'Sepsis'],\n",
    "           yticklabels=['No Sepsis', 'Sepsis']);\n",
    "    plt.xlabel('prediction')\n",
    "    plt.ylabel('actual')\n",
    "    plt.title('Logistic Regression confusion matrix');"
   ]
  },
  {
   "cell_type": "code",
   "execution_count": 25,
   "id": "bright-clearing",
   "metadata": {},
   "outputs": [
    {
     "data": {
      "image/png": "[encoded data removed]",
      "text/plain": [
       "<Figure size 480x320 with 2 Axes>"
      ]
     },
     "metadata": {
      "needs_background": "light"
     },
     "output_type": "display_data"
    }
   ],
   "source": [
    "make_confusion_matrix(logit)"
   ]
  },
  {
   "cell_type": "markdown",
   "id": "wrapped-shepherd",
   "metadata": {},
   "source": [
    "### ROC Curve"
   ]
  },
  {
   "cell_type": "code",
   "execution_count": 30,
   "id": "logical-trout",
   "metadata": {},
   "outputs": [
    {
     "name": "stdout",
     "output_type": "stream",
     "text": [
      "ROC AUC score =  0.8390003224373833\n"
     ]
    },
    {
     "data": {
      "image/png": "[encoded data removed]",
      "text/plain": [
       "<Figure size 432x288 with 1 Axes>"
      ]
     },
     "metadata": {
      "needs_background": "light"
     },
     "output_type": "display_data"
    }
   ],
   "source": [
    "plt.plot(fpr, tpr,lw=2)\n",
    "plt.plot([0,1],[0,1],c='violet',ls='--')\n",
    "plt.xlim([-0.05,1.05])\n",
    "plt.ylim([-0.05,1.05])\n",
    "\n",
    "\n",
    "plt.xlabel('False positive rate')\n",
    "plt.ylabel('True positive rate')\n",
    "plt.title('ROC curve for Sepsis Classification');\n",
    "print(\"ROC AUC score = \", roc_auc_score(y_test, logit.predict_proba(X_test_scaled)[:,1]))"
   ]
  },
  {
   "cell_type": "markdown",
   "id": "ranging-habitat",
   "metadata": {},
   "source": [
    "### Precision & Recall Curves"
   ]
  },
  {
   "cell_type": "code",
   "execution_count": 39,
   "id": "current-helmet",
   "metadata": {},
   "outputs": [
    {
     "data": {
      "image/png": "[encoded data removed]",
      "text/plain": [
       "<Figure size 480x320 with 1 Axes>"
      ]
     },
     "metadata": {
      "needs_background": "light"
     },
     "output_type": "display_data"
    }
   ],
   "source": [
    "precision_curve, recall_curve, threshold_curve = precision_recall_curve(y_test, logit.predict_proba(X_test_scaled)[:,1] )\n",
    "\n",
    "plt.figure(dpi=80)\n",
    "plt.plot(threshold_curve, precision_curve[1:],label='precision')\n",
    "plt.plot(threshold_curve, recall_curve[1:], label='recall')\n",
    "plt.legend(loc='lower left')\n",
    "plt.xlabel('Threshold)');\n",
    "plt.title('Precision and Recall Curves');"
   ]
  },
  {
   "cell_type": "code",
   "execution_count": null,
   "id": "endangered-shock",
   "metadata": {},
   "outputs": [],
   "source": []
  }
 ],
 "metadata": {
  "kernelspec": {
   "display_name": "Python [conda env:metis] *",
   "language": "python",
   "name": "conda-env-metis-py"
  },
  "language_info": {
   "codemirror_mode": {
    "name": "ipython",
    "version": 3
   },
   "file_extension": ".py",
   "mimetype": "text/x-python",
   "name": "python",
   "nbconvert_exporter": "python",
   "pygments_lexer": "ipython3",
   "version": "3.8.8"
  }
 },
 "nbformat": 4,
 "nbformat_minor": 5
}
