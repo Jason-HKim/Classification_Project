{
 "cells": [
  {
   "cell_type": "code",
   "execution_count": 9,
   "id": "concerned-disco",
   "metadata": {},
   "outputs": [],
   "source": [
    "import pandas as pd\n",
    "import numpy as np\n",
    "\n",
    "import matplotlib.pyplot as plt\n",
    "import seaborn as sns\n",
    "\n",
    "%matplotlib inline\n",
    "\n",
    "from sklearn.model_selection import train_test_split\n",
    "from sklearn.metrics import precision_score, recall_score, accuracy_score, roc_auc_score, roc_curve, precision_recall_curve, f1_score, fbeta_score\n",
    "from sklearn.metrics import confusion_matrix\n",
    "from sklearn.linear_model import LogisticRegression, LogisticRegressionCV\n",
    "from sklearn.metrics import log_loss\n",
    "\n",
    "# preprocessing\n",
    "from sklearn.preprocessing import StandardScaler\n",
    "from sklearn.neighbors import KNeighborsClassifier\n",
    "from sklearn import metrics"
   ]
  },
  {
   "cell_type": "code",
   "execution_count": 2,
   "id": "hungry-progressive",
   "metadata": {},
   "outputs": [],
   "source": [
    "sepsis_df = pd.read_csv('sepsis_df.csv')\n",
    "\n",
    "# create X and y for model\n",
    "X = sepsis_df.drop(columns=['isSepsis'])\n",
    "y = sepsis_df.isSepsis\n",
    "\n",
    "# splitting data into Train, Val, & Test sets\n",
    "X_train, X_test, y_train, y_test = train_test_split(X, y, test_size=0.2, random_state=42)\n",
    "X_train, X_val, y_train, y_val = train_test_split(X_train, y_train, test_size=0.2, random_state=42)"
   ]
  },
  {
   "cell_type": "code",
   "execution_count": 3,
   "id": "rocky-block",
   "metadata": {},
   "outputs": [],
   "source": [
    "# resampling using random oversampling\n",
    "from imblearn.over_sampling import RandomOverSampler\n",
    "ros = RandomOverSampler(random_state=0)\n",
    "\n",
    "X_train, y_train = ros.fit_resample(X_train,y_train)"
   ]
  },
  {
   "cell_type": "code",
   "execution_count": 5,
   "id": "differential-collect",
   "metadata": {},
   "outputs": [
    {
     "data": {
      "text/plain": [
       "Counter({0: 10349, 1: 10349})"
      ]
     },
     "execution_count": 5,
     "metadata": {},
     "output_type": "execute_result"
    }
   ],
   "source": [
    "from collections import Counter\n",
    "Counter(y_train)"
   ]
  },
  {
   "cell_type": "code",
   "execution_count": 4,
   "id": "considered-manor",
   "metadata": {},
   "outputs": [],
   "source": [
    "# scaling train, val, and test sets\n",
    "scaler = StandardScaler()\n",
    "\n",
    "X_train_scaled = scaler.fit_transform(X_train)\n",
    "X_val_scaled = scaler.fit_transform(X_val)\n",
    "X_test_scaled = scaler.fit_transform(X_test)"
   ]
  },
  {
   "cell_type": "markdown",
   "id": "conventional-secretariat",
   "metadata": {},
   "source": [
    "### Logistic Regression (10-Fold CV)"
   ]
  },
  {
   "cell_type": "code",
   "execution_count": 12,
   "id": "posted-korean",
   "metadata": {},
   "outputs": [
    {
     "data": {
      "text/plain": [
       "LogisticRegressionCV(Cs=1000, cv=10)"
      ]
     },
     "execution_count": 12,
     "metadata": {},
     "output_type": "execute_result"
    }
   ],
   "source": [
    "logit = LogisticRegressionCV(Cs=1000, cv=10)\n",
    "logit.fit(X_train_scaled, y_train)"
   ]
  },
  {
   "cell_type": "code",
   "execution_count": 13,
   "id": "higher-prerequisite",
   "metadata": {},
   "outputs": [],
   "source": [
    "y_train_pred = logit.predict(X_train_scaled)\n",
    "y_val_pred = logit.predict(X_val_scaled)"
   ]
  },
  {
   "cell_type": "code",
   "execution_count": 14,
   "id": "stopped-parts",
   "metadata": {},
   "outputs": [],
   "source": [
    "def scores(y_true, y_pred):\n",
    "    accuracy = accuracy_score(y_true, y_pred)\n",
    "    precision = precision_score(y_true, y_pred)\n",
    "    recall = recall_score(y_true, y_pred)\n",
    "    f1 = f1_score(y_true, y_pred)\n",
    "    fbeta = fbeta_score(y_true, y_pred, beta=2)\n",
    "    \n",
    "    print(f'Accuracy score: {accuracy}')\n",
    "    print(f'Precision score: {precision}')\n",
    "    print(f'Recall: {recall}')\n",
    "    print(f'F1: {f1}')\n",
    "    print(f'F-beta (beta=2): {fbeta}')"
   ]
  },
  {
   "cell_type": "code",
   "execution_count": 15,
   "id": "invalid-botswana",
   "metadata": {},
   "outputs": [
    {
     "name": "stdout",
     "output_type": "stream",
     "text": [
      "Accuracy score: 0.7707024833317229\n",
      "Precision score: 0.8104843178543721\n",
      "Recall: 0.7066383225432409\n",
      "F1: 0.7550072269254595\n",
      "F-beta (beta=2): 0.7252226343243618\n"
     ]
    }
   ],
   "source": [
    "scores(y_train, y_train_pred)"
   ]
  },
  {
   "cell_type": "code",
   "execution_count": 16,
   "id": "recent-perception",
   "metadata": {
    "scrolled": true
   },
   "outputs": [
    {
     "name": "stdout",
     "output_type": "stream",
     "text": [
      "Accuracy score: 0.5379699248120301\n",
      "Precision score: 0.05066250974279034\n",
      "Recall: 0.8552631578947368\n",
      "F1: 0.09565857247976454\n",
      "F-beta (beta=2): 0.20478890989287968\n"
     ]
    }
   ],
   "source": [
    "scores(y_val, y_val_pred)"
   ]
  },
  {
   "cell_type": "code",
   "execution_count": 29,
   "id": "improving-scene",
   "metadata": {},
   "outputs": [],
   "source": [
    "y_pred = logit.predict(X)"
   ]
  },
  {
   "cell_type": "code",
   "execution_count": 30,
   "id": "driving-remainder",
   "metadata": {},
   "outputs": [
    {
     "name": "stdout",
     "output_type": "stream",
     "text": [
      "Accuracy score: 0.6813669454304795\n",
      "Precision score: 0.06375293480223948\n",
      "Recall: 0.7591397849462366\n",
      "F1: 0.11762745751416194\n",
      "F-beta (beta=2): 0.23861024739759365\n"
     ]
    }
   ],
   "source": [
    "scores(y, y_pred)"
   ]
  },
  {
   "cell_type": "markdown",
   "id": "ordinary-syria",
   "metadata": {},
   "source": [
    "### Precision and Recall Curves"
   ]
  },
  {
   "cell_type": "code",
   "execution_count": 17,
   "id": "recreational-absolute",
   "metadata": {},
   "outputs": [],
   "source": [
    "plt.style.use('ggplot')\n",
    "%matplotlib inline\n",
    "np.set_printoptions(suppress=True)"
   ]
  },
  {
   "cell_type": "code",
   "execution_count": 18,
   "id": "logical-hebrew",
   "metadata": {},
   "outputs": [
    {
     "data": {
      "image/png": "[encoded data removed]",
      "text/plain": [
       "<Figure size 480x320 with 1 Axes>"
      ]
     },
     "metadata": {
      "needs_background": "light"
     },
     "output_type": "display_data"
    }
   ],
   "source": [
    "precision_curve, recall_curve, threshold_curve = precision_recall_curve(y_val, logit.predict_proba(X_val_scaled)[:,1] )\n",
    "\n",
    "plt.figure(dpi=80)\n",
    "plt.plot(threshold_curve, precision_curve[1:],label='precision')\n",
    "plt.plot(threshold_curve, recall_curve[1:], label='recall')\n",
    "plt.legend(loc='lower left')\n",
    "plt.xlabel('Threshold)');\n",
    "plt.title('Precision and Recall Curves');"
   ]
  },
  {
   "cell_type": "code",
   "execution_count": 31,
   "id": "acceptable-promise",
   "metadata": {},
   "outputs": [],
   "source": [
    "def make_confusion_matrix_train(model, threshold=0.5):\n",
    "    # Predict class 1 if probability of being in class 1 is greater than threshold\n",
    "    # (model.predict(X_test) does this automatically with a threshold of 0.5)\n",
    "    y_predict = (model.predict_proba(X_train_scaled)[:, 1] >= threshold)\n",
    "    sepsis_confusion = confusion_matrix(y_train, y_predict)\n",
    "    plt.figure(dpi=80)\n",
    "    sns.heatmap(sepsis_confusion, cmap=plt.cm.Blues, annot=True, square=True, fmt='d',\n",
    "           xticklabels=['No Sepsis', 'Sepsis'],\n",
    "           yticklabels=['No Sepsis', 'Sepsis']);\n",
    "    plt.xlabel('prediction')\n",
    "    plt.ylabel('actual')\n",
    "    plt.title('Logistic Regression confusion matrix');\"\""
   ]
  },
  {
   "cell_type": "code",
   "execution_count": 32,
   "id": "unable-midwest",
   "metadata": {},
   "outputs": [
    {
     "data": {
      "image/png": "[encoded data removed]",
      "text/plain": [
       "<Figure size 480x320 with 2 Axes>"
      ]
     },
     "metadata": {
      "needs_background": "light"
     },
     "output_type": "display_data"
    }
   ],
   "source": [
    "make_confusion_matrix_train(logit)"
   ]
  },
  {
   "cell_type": "markdown",
   "id": "ceramic-chester",
   "metadata": {},
   "source": [
    "### Confusion Matrix"
   ]
  },
  {
   "cell_type": "code",
   "execution_count": 26,
   "id": "promising-success",
   "metadata": {},
   "outputs": [],
   "source": [
    "def make_confusion_matrix(model, threshold=0.5):\n",
    "    # Predict class 1 if probability of being in class 1 is greater than threshold\n",
    "    # (model.predict(X_test) does this automatically with a threshold of 0.5)\n",
    "    y_predict = (model.predict_proba(X_val_scaled)[:, 1] >= threshold)\n",
    "    sepsis_confusion = confusion_matrix(y_val, y_predict)\n",
    "    plt.figure(dpi=80)\n",
    "    sns.heatmap(sepsis_confusion, cmap=plt.cm.Blues, annot=True, square=True, fmt='d',\n",
    "           xticklabels=['No Sepsis', 'Sepsis'],\n",
    "           yticklabels=['No Sepsis', 'Sepsis']);\n",
    "    plt.xlabel('prediction')\n",
    "    plt.ylabel('actual')\n",
    "    plt.title('Logistic Regression confusion matrix');"
   ]
  },
  {
   "cell_type": "code",
   "execution_count": 27,
   "id": "chronic-boston",
   "metadata": {},
   "outputs": [
    {
     "data": {
      "image/png": "[encoded data removed]",
      "text/plain": [
       "<Figure size 480x320 with 2 Axes>"
      ]
     },
     "metadata": {
      "needs_background": "light"
     },
     "output_type": "display_data"
    }
   ],
   "source": [
    "make_confusion_matrix(logit)"
   ]
  },
  {
   "cell_type": "code",
   "execution_count": 21,
   "id": "ethical-draft",
   "metadata": {},
   "outputs": [
    {
     "data": {
      "application/vnd.jupyter.widget-view+json": {
       "model_id": "5d95817dd52e496ca1d7c7b43abc9f9c",
       "version_major": 2,
       "version_minor": 0
      },
      "text/plain": [
       "interactive(children=(FloatSlider(value=0.5, description='threshold', max=1.0, step=0.02), Output()), _dom_cla…"
      ]
     },
     "metadata": {},
     "output_type": "display_data"
    }
   ],
   "source": [
    "from ipywidgets import interactive, FloatSlider\n",
    "interactive(lambda threshold: make_confusion_matrix(logit, threshold), threshold=(0.0,1.0,0.02))"
   ]
  },
  {
   "cell_type": "markdown",
   "id": "changed-documentation",
   "metadata": {},
   "source": [
    "### ROC-AUC Curve"
   ]
  },
  {
   "cell_type": "code",
   "execution_count": 23,
   "id": "derived-liberia",
   "metadata": {},
   "outputs": [],
   "source": [
    "fpr, tpr, thresholds = roc_curve(y_val, logit.predict_proba(X_val_scaled)[:,1])"
   ]
  },
  {
   "cell_type": "code",
   "execution_count": 24,
   "id": "sudden-classics",
   "metadata": {},
   "outputs": [
    {
     "name": "stdout",
     "output_type": "stream",
     "text": [
      "ROC AUC score =  0.8026417630764218\n"
     ]
    },
    {
     "data": {
      "image/png": "[encoded data removed]",
      "text/plain": [
       "<Figure size 432x288 with 1 Axes>"
      ]
     },
     "metadata": {
      "needs_background": "light"
     },
     "output_type": "display_data"
    }
   ],
   "source": [
    "plt.plot(fpr, tpr,lw=2)\n",
    "plt.plot([0,1],[0,1],c='violet',ls='--')\n",
    "plt.xlim([-0.05,1.05])\n",
    "plt.ylim([-0.05,1.05])\n",
    "\n",
    "\n",
    "plt.xlabel('False positive rate')\n",
    "plt.ylabel('True positive rate')\n",
    "plt.title('ROC curve for Sepsis Classification');\n",
    "print(\"ROC AUC score = \", roc_auc_score(y_val, logit.predict_proba(X_val_scaled)[:,1]))"
   ]
  },
  {
   "cell_type": "markdown",
   "id": "important-leather",
   "metadata": {},
   "source": [
    "### Log Loss"
   ]
  },
  {
   "cell_type": "code",
   "execution_count": 25,
   "id": "alternate-display",
   "metadata": {},
   "outputs": [
    {
     "name": "stdout",
     "output_type": "stream",
     "text": [
      "Log-loss on Logistic Regression Model: 1.0494\n"
     ]
    }
   ],
   "source": [
    "print(\"Log-loss on Logistic Regression Model: {:6.4f}\".format(log_loss(y_val, logit.predict_proba(X_val_scaled))))"
   ]
  },
  {
   "cell_type": "code",
   "execution_count": null,
   "id": "editorial-champagne",
   "metadata": {},
   "outputs": [],
   "source": []
  }
 ],
 "metadata": {
  "kernelspec": {
   "display_name": "Python [conda env:metis] *",
   "language": "python",
   "name": "conda-env-metis-py"
  },
  "language_info": {
   "codemirror_mode": {
    "name": "ipython",
    "version": 3
   },
   "file_extension": ".py",
   "mimetype": "text/x-python",
   "name": "python",
   "nbconvert_exporter": "python",
   "pygments_lexer": "ipython3",
   "version": "3.8.8"
  }
 },
 "nbformat": 4,
 "nbformat_minor": 5
}
