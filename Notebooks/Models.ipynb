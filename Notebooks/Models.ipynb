{
 "cells": [
  {
   "cell_type": "code",
   "execution_count": 31,
   "id": "traditional-matthew",
   "metadata": {},
   "outputs": [],
   "source": [
    "import pandas as pd\n",
    "import numpy as np\n",
    "\n",
    "import matplotlib.pyplot as plt\n",
    "import seaborn as sns\n",
    "\n",
    "%matplotlib inline\n",
    "\n",
    "from sklearn.model_selection import train_test_split\n",
    "from sklearn.metrics import confusion_matrix, precision_score, recall_score, accuracy_score, roc_auc_score, roc_curve, precision_recall_curve, f1_score, fbeta_score\n",
    "from sklearn.metrics import log_loss\n",
    "from sklearn.linear_model import LogisticRegression, LogisticRegressionCV\n",
    "from sklearn.ensemble import RandomForestClassifier\n",
    "\n",
    "\n",
    "# preprocessing\n",
    "from sklearn.preprocessing import StandardScaler\n",
    "from sklearn.neighbors import KNeighborsClassifier\n",
    "from sklearn import metrics"
   ]
  },
  {
   "cell_type": "code",
   "execution_count": 2,
   "id": "incorrect-perspective",
   "metadata": {},
   "outputs": [],
   "source": [
    "sepsis_df = pd.read_csv('sepsis_df.csv')\n",
    "\n",
    "# create X and y for model\n",
    "X = sepsis_df.drop(columns=['isSepsis'])\n",
    "y = sepsis_df.isSepsis"
   ]
  },
  {
   "cell_type": "code",
   "execution_count": 3,
   "id": "ancient-consortium",
   "metadata": {},
   "outputs": [],
   "source": [
    "# splitting into train, val, test\n",
    "X_train, X_test, y_train, y_test = train_test_split(X, y, test_size=0.2, random_state=248)\n",
    "X_train, X_val, y_train, y_val = train_test_split(X_train, y_train, test_size=0.2, random_state=248)"
   ]
  },
  {
   "cell_type": "code",
   "execution_count": 4,
   "id": "electoral-patrick",
   "metadata": {},
   "outputs": [
    {
     "data": {
      "text/plain": [
       "Counter({0: 10344, 1: 292})"
      ]
     },
     "execution_count": 4,
     "metadata": {},
     "output_type": "execute_result"
    }
   ],
   "source": [
    "# very imbalanced dataset, needs resampling!\n",
    "from collections import Counter\n",
    "Counter(y_train)"
   ]
  },
  {
   "cell_type": "code",
   "execution_count": 5,
   "id": "federal-living",
   "metadata": {},
   "outputs": [],
   "source": [
    "# resampling using random oversampling\n",
    "from imblearn.over_sampling import RandomOverSampler\n",
    "ros = RandomOverSampler(random_state=0)\n",
    "\n",
    "X_train, y_train = ros.fit_resample(X_train,y_train)"
   ]
  },
  {
   "cell_type": "code",
   "execution_count": 6,
   "id": "played-alfred",
   "metadata": {},
   "outputs": [
    {
     "data": {
      "text/plain": [
       "Counter({0: 10344, 1: 10344})"
      ]
     },
     "execution_count": 6,
     "metadata": {},
     "output_type": "execute_result"
    }
   ],
   "source": [
    "Counter(y_train)"
   ]
  },
  {
   "cell_type": "code",
   "execution_count": 7,
   "id": "electoral-packing",
   "metadata": {},
   "outputs": [],
   "source": [
    "# import standard scaler\n",
    "scaler = StandardScaler()\n",
    "\n",
    "X_train_scaled = scaler.fit_transform(X_train)\n",
    "X_val_scaled = scaler.fit_transform(X_val)\n",
    "X_test_scaled = scaler.fit_transform(X_test)"
   ]
  },
  {
   "cell_type": "code",
   "execution_count": 8,
   "id": "acquired-topic",
   "metadata": {},
   "outputs": [],
   "source": [
    "from sklearn.metrics import make_scorer\n",
    "# creating a new scoring metric that uses beta = 2\n",
    "f_beta_2 = make_scorer(fbeta_score, beta=2)"
   ]
  },
  {
   "cell_type": "code",
   "execution_count": 9,
   "id": "relative-formula",
   "metadata": {},
   "outputs": [],
   "source": [
    "def scores(y_true, y_pred):\n",
    "    accuracy = accuracy_score(y_true, y_pred)\n",
    "    precision = precision_score(y_true, y_pred)\n",
    "    recall = recall_score(y_true, y_pred)\n",
    "    f1 = f1_score(y_true, y_pred)\n",
    "    fbeta = fbeta_score(y_true, y_pred, beta=2)\n",
    "\n",
    "    print(f'Accuracy score: {accuracy}')\n",
    "    print(f'Precision score: {precision}')\n",
    "    print(f'Recall: {recall}')\n",
    "    print(f'F1: {f1}')\n",
    "    print(f'F-beta (beta=2): {fbeta}')"
   ]
  },
  {
   "cell_type": "code",
   "execution_count": 18,
   "id": "antique-isaac",
   "metadata": {},
   "outputs": [],
   "source": [
    "def make_confusion_matrix(model, threshold=0.5):\n",
    "    # Predict class 1 if probability of being in class 1 is greater than threshold\n",
    "    # (model.predict(X_test) does this automatically with a threshold of 0.5)\n",
    "    y_predict = (model.predict_proba(X_val_scaled)[:, 1] >= threshold)\n",
    "    sepsis_confusion = confusion_matrix(y_val, y_predict)\n",
    "    plt.figure(dpi=80)\n",
    "    sns.heatmap(sepsis_confusion, cmap=plt.cm.Blues, annot=True, square=True, fmt='d',\n",
    "           xticklabels=['No Sepsis', 'Sepsis'],\n",
    "           yticklabels=['No Sepsis', 'Sepsis']);\n",
    "    plt.xlabel('prediction')\n",
    "    plt.ylabel('actual')"
   ]
  },
  {
   "cell_type": "markdown",
   "id": "global-japan",
   "metadata": {},
   "source": [
    "# KNN"
   ]
  },
  {
   "cell_type": "code",
   "execution_count": 83,
   "id": "personalized-mobility",
   "metadata": {},
   "outputs": [],
   "source": [
    "knn = KNeighborsClassifier(n_neighbors = 5, weights='distance')\n",
    "knn.fit(X_train_scaled, y_train)\n",
    "\n",
    "knn_train_pred = knn.predict(X_train_scaled)\n",
    "knn_val_pred = knn.predict(X_val_scaled)"
   ]
  },
  {
   "cell_type": "markdown",
   "id": "vocal-somalia",
   "metadata": {},
   "source": [
    "KNN Test Set Scores"
   ]
  },
  {
   "cell_type": "code",
   "execution_count": 84,
   "id": "breeding-charity",
   "metadata": {},
   "outputs": [
    {
     "name": "stdout",
     "output_type": "stream",
     "text": [
      "Accuracy score: 1.0\n",
      "Precision score: 1.0\n",
      "Recall: 1.0\n",
      "F1: 1.0\n",
      "F-beta (beta=2): 1.0\n"
     ]
    }
   ],
   "source": [
    "scores(y_train, knn_train_pred)"
   ]
  },
  {
   "cell_type": "markdown",
   "id": "fleet-seating",
   "metadata": {},
   "source": [
    "KNN Val Set Scores"
   ]
  },
  {
   "cell_type": "code",
   "execution_count": 85,
   "id": "criminal-somalia",
   "metadata": {},
   "outputs": [
    {
     "name": "stdout",
     "output_type": "stream",
     "text": [
      "Accuracy score: 0.8748120300751879\n",
      "Precision score: 0.08868501529051988\n",
      "Recall: 0.453125\n",
      "F1: 0.1483375959079284\n",
      "F-beta (beta=2): 0.24871355060034306\n"
     ]
    }
   ],
   "source": [
    "scores(y_val, knn_val_pred)"
   ]
  },
  {
   "cell_type": "code",
   "execution_count": 86,
   "id": "pleased-tractor",
   "metadata": {},
   "outputs": [
    {
     "data": {
      "image/png": "[encoded data removed]",
      "text/plain": [
       "<Figure size 480x320 with 2 Axes>"
      ]
     },
     "metadata": {
      "needs_background": "light"
     },
     "output_type": "display_data"
    }
   ],
   "source": [
    "make_confusion_matrix(knn)"
   ]
  },
  {
   "cell_type": "markdown",
   "id": "defined-politics",
   "metadata": {},
   "source": [
    "## Logistic Regression"
   ]
  },
  {
   "cell_type": "code",
   "execution_count": 22,
   "id": "growing-diagram",
   "metadata": {},
   "outputs": [],
   "source": [
    "logit = LogisticRegression()\n",
    "logit.fit(X_train_scaled, y_train)\n",
    "\n",
    "logit_train_pred = logit.predict(X_train_scaled)\n",
    "logit_val_pred = logit.predict(X_val_scaled)"
   ]
  },
  {
   "cell_type": "markdown",
   "id": "adequate-singapore",
   "metadata": {},
   "source": [
    "Logistic Regression Train Set Scores:"
   ]
  },
  {
   "cell_type": "code",
   "execution_count": 23,
   "id": "clear-flavor",
   "metadata": {},
   "outputs": [
    {
     "name": "stdout",
     "output_type": "stream",
     "text": [
      "Accuracy score: 0.7589907192575406\n",
      "Precision score: 0.7974683544303798\n",
      "Recall: 0.6943155452436195\n",
      "F1: 0.7423255813953489\n",
      "F-beta (beta=2): 0.7127545551982851\n"
     ]
    }
   ],
   "source": [
    "scores(y_train, logit_train_pred)"
   ]
  },
  {
   "cell_type": "markdown",
   "id": "brief-prescription",
   "metadata": {},
   "source": [
    "Logistic Regression Val Set Scores:"
   ]
  },
  {
   "cell_type": "code",
   "execution_count": 24,
   "id": "sitting-sleeping",
   "metadata": {},
   "outputs": [
    {
     "name": "stdout",
     "output_type": "stream",
     "text": [
      "Accuracy score: 0.5176691729323308\n",
      "Precision score: 0.04\n",
      "Recall: 0.828125\n",
      "F1: 0.07631389488840892\n",
      "F-beta (beta=2): 0.16761543327008224\n"
     ]
    }
   ],
   "source": [
    "scores(y_val, logit_val_pred)"
   ]
  },
  {
   "cell_type": "code",
   "execution_count": 26,
   "id": "mathematical-finland",
   "metadata": {},
   "outputs": [
    {
     "data": {
      "image/png": "[encoded data removed]",
      "text/plain": [
       "<Figure size 480x320 with 2 Axes>"
      ]
     },
     "metadata": {
      "needs_background": "light"
     },
     "output_type": "display_data"
    }
   ],
   "source": [
    "make_confusion_matrix(logit)"
   ]
  },
  {
   "cell_type": "markdown",
   "id": "directed-convergence",
   "metadata": {},
   "source": [
    "## Random Forest"
   ]
  },
  {
   "cell_type": "code",
   "execution_count": 87,
   "id": "comprehensive-order",
   "metadata": {},
   "outputs": [],
   "source": [
    "rf = RandomForestClassifier()\n",
    "rf.fit(X_train, y_train)\n",
    "\n",
    "rf_train_pred = rf.predict(X_train)\n",
    "rf_val_pred = rf.predict(X_val)"
   ]
  },
  {
   "cell_type": "markdown",
   "id": "speaking-injury",
   "metadata": {},
   "source": [
    "Random Forest Train Set Scores"
   ]
  },
  {
   "cell_type": "code",
   "execution_count": 88,
   "id": "southwest-psychiatry",
   "metadata": {},
   "outputs": [
    {
     "name": "stdout",
     "output_type": "stream",
     "text": [
      "Accuracy score: 1.0\n",
      "Precision score: 1.0\n",
      "Recall: 1.0\n",
      "F1: 1.0\n",
      "F-beta (beta=2): 1.0\n"
     ]
    }
   ],
   "source": [
    "scores(y_train, rf_train_pred)"
   ]
  },
  {
   "cell_type": "markdown",
   "id": "inappropriate-communication",
   "metadata": {},
   "source": [
    "Random Forest Val Set Scores"
   ]
  },
  {
   "cell_type": "code",
   "execution_count": 89,
   "id": "ready-vocabulary",
   "metadata": {},
   "outputs": [
    {
     "name": "stdout",
     "output_type": "stream",
     "text": [
      "Accuracy score: 0.9785714285714285\n",
      "Precision score: 0.6666666666666666\n",
      "Recall: 0.21875\n",
      "F1: 0.32941176470588235\n",
      "F-beta (beta=2): 0.2527075812274368\n"
     ]
    }
   ],
   "source": [
    "scores(y_val, rf_val_pred)"
   ]
  },
  {
   "cell_type": "code",
   "execution_count": 90,
   "id": "invisible-reasoning",
   "metadata": {},
   "outputs": [],
   "source": [
    "def make_confusion_matrix_unscaled(model, threshold=0.5):\n",
    "    # Predict class 1 if probability of being in class 1 is greater than threshold\n",
    "    # (model.predict(X_test) does this automatically with a threshold of 0.5)\n",
    "    y_predict = (model.predict_proba(X_val)[:, 1] >= threshold)\n",
    "    sepsis_confusion = confusion_matrix(y_val, y_predict)\n",
    "    plt.figure(dpi=80)\n",
    "    sns.heatmap(sepsis_confusion, cmap=plt.cm.Blues, annot=True, square=True, fmt='d',\n",
    "           xticklabels=['No Sepsis', 'Sepsis'],\n",
    "           yticklabels=['No Sepsis', 'Sepsis']);\n",
    "    plt.xlabel('prediction')\n",
    "    plt.ylabel('actual')"
   ]
  },
  {
   "cell_type": "code",
   "execution_count": 91,
   "id": "partial-harassment",
   "metadata": {},
   "outputs": [
    {
     "data": {
      "image/png": "[encoded data removed]",
      "text/plain": [
       "<Figure size 480x320 with 2 Axes>"
      ]
     },
     "metadata": {
      "needs_background": "light"
     },
     "output_type": "display_data"
    }
   ],
   "source": [
    "make_confusion_matrix_unscaled(rf)"
   ]
  },
  {
   "cell_type": "code",
   "execution_count": 92,
   "id": "altered-montreal",
   "metadata": {},
   "outputs": [],
   "source": [
    "knn_fpr, knn_tpr, knn_thresh = roc_curve(y_val, knn.predict_proba(X_val_scaled)[:,1])\n",
    "logit_fpr, logit_tpr, logit_thresh = roc_curve(y_val, logit.predict_proba(X_val_scaled)[:,1])\n",
    "rf_fpr, rf_tpr, rf_thresh = roc_curve(y_val, rf.predict_proba(X_val)[:,1])\n"
   ]
  },
  {
   "cell_type": "code",
   "execution_count": 93,
   "id": "verified-retailer",
   "metadata": {},
   "outputs": [
    {
     "data": {
      "text/plain": [
       "<matplotlib.legend.Legend at 0x7f852ad3a850>"
      ]
     },
     "execution_count": 93,
     "metadata": {},
     "output_type": "execute_result"
    },
    {
     "data": {
      "image/png": "[encoded data removed]",
      "text/plain": [
       "<Figure size 432x288 with 1 Axes>"
      ]
     },
     "metadata": {
      "needs_background": "light"
     },
     "output_type": "display_data"
    }
   ],
   "source": [
    "fpr, tpr, thresholds = roc_curve(y_val, rf.predict_proba(X_val)[:,1])\n",
    "\n",
    "roc_auc_knn = (roc_auc_score(y_val, knn.predict_proba(X_val)[:,1]))\n",
    "roc_auc_logit = (roc_auc_score(y_val, logit.predict_proba(X_val)[:,1]))\n",
    "roc_auc_rf = (roc_auc_score(y_val, rf.predict_proba(X_val)[:,1]))                    \n",
    "plt.plot(knn_fpr, knn_tpr, lw=2, label = f'KNN Curve (auc = {roc_auc_knn.round(3)})')\n",
    "plt.plot(logit_fpr, logit_tpr, lw=2, label = f'Log Reg Curve(auc = {roc_auc_logit.round(3)})')\n",
    "plt.plot(rf_fpr, rf_tpr, lw=2, label = f'Random Forest Curve (auc= {roc_auc_rf.round(3)})')\n",
    "\n",
    "\n",
    "\n",
    "\n",
    "\n",
    "plt.plot([0,1],[0,1],c='violet',ls='--')\n",
    "plt.xlim([-0.05,1.05])\n",
    "plt.ylim([-0.05,1.05])\n",
    "\n",
    "\n",
    "plt.xlabel('False positive rate')\n",
    "plt.ylabel('True positive rate')\n",
    "plt.title('ROC curves for Sepsis Classification');\n",
    "# print(\"ROC AUC score = \", roc_auc_score(y_val, rf.predict_proba(X_val)[:,1]))\n",
    "plt.legend(loc='lower right')"
   ]
  },
  {
   "cell_type": "code",
   "execution_count": 94,
   "id": "muslim-certification",
   "metadata": {},
   "outputs": [],
   "source": [
    "fbeta_knn = fbeta_score(y_val, knn_val_pred, beta=2)\n",
    "fbeta_logit = fbeta_score(y_val, logit_val_pred, beta=2)\n",
    "fbeta_rf = fbeta_score(y_val, rf_val_pred, beta=2)"
   ]
  },
  {
   "cell_type": "code",
   "execution_count": 117,
   "id": "controlled-flight",
   "metadata": {},
   "outputs": [],
   "source": [
    "f_beta_scores = {'model':['knn','logistic regression','random forest'],\n",
    "                 'score':[fbeta_score(y_val, knn_val_pred, beta=2),\n",
    "                          fbeta_score(y_val, logit_val_pred, beta=2),\n",
    "                         fbeta_score(y_val, rf_val_pred, beta=2)]}"
   ]
  },
  {
   "cell_type": "code",
   "execution_count": 118,
   "id": "steady-mills",
   "metadata": {},
   "outputs": [
    {
     "data": {
      "text/plain": [
       "{'model': ['knn', 'logistic regression', 'random forest'],\n",
       " 'score': [0.24871355060034306, 0.16761543327008224, 0.2527075812274368]}"
      ]
     },
     "execution_count": 118,
     "metadata": {},
     "output_type": "execute_result"
    }
   ],
   "source": [
    "f_beta_scores"
   ]
  },
  {
   "cell_type": "code",
   "execution_count": 119,
   "id": "scientific-square",
   "metadata": {},
   "outputs": [],
   "source": [
    "fbeta_df = pd.DataFrame.from_dict(f_beta_scores)"
   ]
  },
  {
   "cell_type": "code",
   "execution_count": 120,
   "id": "received-reform",
   "metadata": {},
   "outputs": [
    {
     "data": {
      "text/html": [
       "<div>\n",
       "<style scoped>\n",
       "    .dataframe tbody tr th:only-of-type {\n",
       "        vertical-align: middle;\n",
       "    }\n",
       "\n",
       "    .dataframe tbody tr th {\n",
       "        vertical-align: top;\n",
       "    }\n",
       "\n",
       "    .dataframe thead th {\n",
       "        text-align: right;\n",
       "    }\n",
       "</style>\n",
       "<table border=\"1\" class=\"dataframe\">\n",
       "  <thead>\n",
       "    <tr style=\"text-align: right;\">\n",
       "      <th></th>\n",
       "      <th>model</th>\n",
       "      <th>score</th>\n",
       "    </tr>\n",
       "  </thead>\n",
       "  <tbody>\n",
       "    <tr>\n",
       "      <th>0</th>\n",
       "      <td>knn</td>\n",
       "      <td>0.248714</td>\n",
       "    </tr>\n",
       "    <tr>\n",
       "      <th>1</th>\n",
       "      <td>logistic regression</td>\n",
       "      <td>0.167615</td>\n",
       "    </tr>\n",
       "    <tr>\n",
       "      <th>2</th>\n",
       "      <td>random forest</td>\n",
       "      <td>0.252708</td>\n",
       "    </tr>\n",
       "  </tbody>\n",
       "</table>\n",
       "</div>"
      ],
      "text/plain": [
       "                 model     score\n",
       "0                  knn  0.248714\n",
       "1  logistic regression  0.167615\n",
       "2        random forest  0.252708"
      ]
     },
     "execution_count": 120,
     "metadata": {},
     "output_type": "execute_result"
    }
   ],
   "source": [
    "fbeta_df"
   ]
  },
  {
   "cell_type": "code",
   "execution_count": 125,
   "id": "soviet-peter",
   "metadata": {},
   "outputs": [
    {
     "data": {
      "text/plain": [
       "Text(0, 0.5, 'Score')"
      ]
     },
     "execution_count": 125,
     "metadata": {},
     "output_type": "execute_result"
    },
    {
     "data": {
      "image/png": "[encoded data removed]",
      "text/plain": [
       "<Figure size 432x288 with 1 Axes>"
      ]
     },
     "metadata": {
      "needs_background": "light"
     },
     "output_type": "display_data"
    }
   ],
   "source": [
    "fbeta_df.plot(x = 'model', kind='bar')\n",
    "plt.xticks(rotation=45)\n",
    "plt.xlabel('Models')\n",
    "plt.ylabel('Score')"
   ]
  },
  {
   "cell_type": "code",
   "execution_count": null,
   "id": "detected-presentation",
   "metadata": {},
   "outputs": [],
   "source": [
    "feature_importance_df = pd.DataFrame({'feat_importance':rf.feature_importances_}, index=X_val.columns).sort_values(by='feat_importance', ascending=False)"
   ]
  },
  {
   "cell_type": "code",
   "execution_count": 95,
   "id": "handmade-evidence",
   "metadata": {},
   "outputs": [
    {
     "data": {
      "text/plain": [
       "0.24871355060034306"
      ]
     },
     "execution_count": 95,
     "metadata": {},
     "output_type": "execute_result"
    }
   ],
   "source": [
    "sns.barplot()"
   ]
  },
  {
   "cell_type": "code",
   "execution_count": null,
   "id": "lesbian-wholesale",
   "metadata": {},
   "outputs": [],
   "source": []
  }
 ],
 "metadata": {
  "kernelspec": {
   "display_name": "Python [conda env:metis] *",
   "language": "python",
   "name": "conda-env-metis-py"
  },
  "language_info": {
   "codemirror_mode": {
    "name": "ipython",
    "version": 3
   },
   "file_extension": ".py",
   "mimetype": "text/x-python",
   "name": "python",
   "nbconvert_exporter": "python",
   "pygments_lexer": "ipython3",
   "version": "3.8.8"
  }
 },
 "nbformat": 4,
 "nbformat_minor": 5
}
