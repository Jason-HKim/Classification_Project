{
 "cells": [
  {
   "cell_type": "code",
   "execution_count": 1,
   "id": "native-satellite",
   "metadata": {},
   "outputs": [],
   "source": [
    "import pandas as pd\n",
    "import numpy as np\n",
    "\n",
    "import matplotlib.pyplot as plt\n",
    "import seaborn as sns\n",
    "\n",
    "%matplotlib inline\n",
    "\n",
    "from sklearn.model_selection import train_test_split\n",
    "from sklearn.metrics import classification_report\n",
    "from sklearn.metrics import precision_score, recall_score, accuracy_score, roc_auc_score, f1_score, fbeta_score, log_loss\n",
    "from sklearn.metrics import confusion_matrix, precision_recall_curve\n",
    "from sklearn.linear_model import LogisticRegression\n",
    "from sklearn.metrics import roc_curve, auc\n",
    "\n",
    "# preprocessing\n",
    "from sklearn.preprocessing import StandardScaler\n",
    "from sklearn.neighbors import KNeighborsClassifier\n",
    "from sklearn import metrics"
   ]
  },
  {
   "cell_type": "code",
   "execution_count": 2,
   "id": "rough-resource",
   "metadata": {},
   "outputs": [],
   "source": [
    "sepsis_df = pd.read_pickle(\"../data/sepsis_df_median_imputed.pkl\")"
   ]
  },
  {
   "cell_type": "code",
   "execution_count": 3,
   "id": "unexpected-remark",
   "metadata": {},
   "outputs": [],
   "source": [
    "# create X and y for model\n",
    "X = sepsis_df.drop(columns=['isSepsis'])\n",
    "y = sepsis_df.isSepsis"
   ]
  },
  {
   "cell_type": "code",
   "execution_count": 4,
   "id": "polar-amsterdam",
   "metadata": {},
   "outputs": [
    {
     "name": "stderr",
     "output_type": "stream",
     "text": [
      "/Users/jasonkim/opt/anaconda3/envs/metis/lib/python3.8/site-packages/seaborn/_decorators.py:36: FutureWarning: Pass the following variable as a keyword arg: x. From version 0.12, the only valid positional argument will be `data`, and passing other arguments without an explicit keyword will result in an error or misinterpretation.\n",
      "  warnings.warn(\n"
     ]
    },
    {
     "data": {
      "text/plain": [
       "<AxesSubplot:xlabel='isSepsis', ylabel='count'>"
      ]
     },
     "execution_count": 4,
     "metadata": {},
     "output_type": "execute_result"
    },
    {
     "data": {
      "image/png": "[encoded data removed]",
      "text/plain": [
       "<Figure size 432x288 with 1 Axes>"
      ]
     },
     "metadata": {
      "needs_background": "light"
     },
     "output_type": "display_data"
    }
   ],
   "source": [
    "# highly imbalanced dataset!\n",
    "y.value_counts()\n",
    "sns.countplot(y)"
   ]
  },
  {
   "cell_type": "code",
   "execution_count": 5,
   "id": "convenient-pension",
   "metadata": {},
   "outputs": [
    {
     "data": {
      "text/plain": [
       "Counter({0: 33655, 1: 2647})"
      ]
     },
     "execution_count": 5,
     "metadata": {},
     "output_type": "execute_result"
    }
   ],
   "source": [
    "from collections import Counter\n",
    "Counter(y)"
   ]
  },
  {
   "cell_type": "markdown",
   "id": "numeric-poverty",
   "metadata": {},
   "source": [
    "Note: This is a slightly less imbalanced dataset than when I did not impute the median, and used a smaller dataset to adjust for missing values. However, we will still need to perform random oversampling to adjust for the still large class imbalance."
   ]
  },
  {
   "cell_type": "code",
   "execution_count": 6,
   "id": "considered-center",
   "metadata": {},
   "outputs": [
    {
     "data": {
      "text/plain": [
       "0.07865101767939385"
      ]
     },
     "execution_count": 6,
     "metadata": {},
     "output_type": "execute_result"
    }
   ],
   "source": [
    "Counter(y)[1]/Counter(y)[0]"
   ]
  },
  {
   "cell_type": "markdown",
   "id": "accessible-brooklyn",
   "metadata": {},
   "source": [
    "### Logistic Regression w/ All Features"
   ]
  },
  {
   "cell_type": "code",
   "execution_count": 7,
   "id": "structured-vertex",
   "metadata": {},
   "outputs": [],
   "source": [
    "# splitting data into Train, Val, & Test sets\n",
    "X_train, X_test, y_train, y_test = train_test_split(X, y, test_size=0.2, random_state=42, shuffle=True, stratify=)"
   ]
  },
  {
   "cell_type": "code",
   "execution_count": null,
   "id": "martial-groove",
   "metadata": {},
   "outputs": [],
   "source": []
  }
 ],
 "metadata": {
  "kernelspec": {
   "display_name": "Python [conda env:metis] *",
   "language": "python",
   "name": "conda-env-metis-py"
  },
  "language_info": {
   "codemirror_mode": {
    "name": "ipython",
    "version": 3
   },
   "file_extension": ".py",
   "mimetype": "text/x-python",
   "name": "python",
   "nbconvert_exporter": "python",
   "pygments_lexer": "ipython3",
   "version": "3.8.8"
  }
 },
 "nbformat": 4,
 "nbformat_minor": 5
}
