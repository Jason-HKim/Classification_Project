{
 "cells": [
  {
   "cell_type": "code",
   "execution_count": 1,
   "id": "younger-gibson",
   "metadata": {},
   "outputs": [],
   "source": [
    "import pandas as pd\n",
    "import numpy as np\n",
    "\n",
    "import matplotlib.pyplot as plt\n",
    "import seaborn as sns\n",
    "\n",
    "%matplotlib inline\n",
    "\n",
    "from sklearn.model_selection import train_test_split\n",
    "from sklearn.metrics import confusion_matrix, precision_score, recall_score, accuracy_score, roc_auc_score, roc_curve, precision_recall_curve, f1_score, fbeta_score\n",
    "from sklearn.metrics import log_loss\n",
    "from sklearn.linear_model import LogisticRegression, LogisticRegressionCV\n",
    "from sklearn.ensemble import RandomForestClassifier\n",
    "\n",
    "# preprocessing\n",
    "from sklearn.preprocessing import StandardScaler\n",
    "from sklearn.neighbors import KNeighborsClassifier\n",
    "from sklearn import metrics"
   ]
  },
  {
   "cell_type": "code",
   "execution_count": 2,
   "id": "naughty-regulation",
   "metadata": {},
   "outputs": [],
   "source": [
    "sepsis_df = pd.read_pickle(\"../data/sepsis_df_median_imputed.pkl\")"
   ]
  },
  {
   "cell_type": "code",
   "execution_count": 3,
   "id": "hairy-spirit",
   "metadata": {},
   "outputs": [
    {
     "data": {
      "text/html": [
       "<div>\n",
       "<style scoped>\n",
       "    .dataframe tbody tr th:only-of-type {\n",
       "        vertical-align: middle;\n",
       "    }\n",
       "\n",
       "    .dataframe tbody tr th {\n",
       "        vertical-align: top;\n",
       "    }\n",
       "\n",
       "    .dataframe thead th {\n",
       "        text-align: right;\n",
       "    }\n",
       "</style>\n",
       "<table border=\"1\" class=\"dataframe\">\n",
       "  <thead>\n",
       "    <tr style=\"text-align: right;\">\n",
       "      <th></th>\n",
       "      <th>isSepsis</th>\n",
       "      <th>Age</th>\n",
       "      <th>ICULOS</th>\n",
       "      <th>HospAdmTime</th>\n",
       "      <th>Gender</th>\n",
       "      <th>HR</th>\n",
       "      <th>MAP</th>\n",
       "      <th>O2Sat</th>\n",
       "      <th>SBP</th>\n",
       "      <th>Resp</th>\n",
       "      <th>...</th>\n",
       "      <th>Magnesium</th>\n",
       "      <th>Phosphate</th>\n",
       "      <th>Chloride</th>\n",
       "      <th>Temp</th>\n",
       "      <th>HCO3</th>\n",
       "      <th>PTT</th>\n",
       "      <th>AST</th>\n",
       "      <th>Bilirubin_total</th>\n",
       "      <th>Alkalinephos</th>\n",
       "      <th>pH</th>\n",
       "    </tr>\n",
       "  </thead>\n",
       "  <tbody>\n",
       "    <tr>\n",
       "      <th>0</th>\n",
       "      <td>0</td>\n",
       "      <td>83.14</td>\n",
       "      <td>17</td>\n",
       "      <td>-0.03</td>\n",
       "      <td>0</td>\n",
       "      <td>103.0</td>\n",
       "      <td>80.0</td>\n",
       "      <td>90.0</td>\n",
       "      <td>120.0</td>\n",
       "      <td>30.0</td>\n",
       "      <td>...</td>\n",
       "      <td>2.0</td>\n",
       "      <td>3.3</td>\n",
       "      <td>85.0</td>\n",
       "      <td>36.80</td>\n",
       "      <td>45.0</td>\n",
       "      <td>30.7</td>\n",
       "      <td>16.0</td>\n",
       "      <td>0.3</td>\n",
       "      <td>98.0</td>\n",
       "      <td>7.37</td>\n",
       "    </tr>\n",
       "    <tr>\n",
       "      <th>1</th>\n",
       "      <td>0</td>\n",
       "      <td>75.91</td>\n",
       "      <td>10</td>\n",
       "      <td>-98.60</td>\n",
       "      <td>0</td>\n",
       "      <td>58.0</td>\n",
       "      <td>77.0</td>\n",
       "      <td>95.0</td>\n",
       "      <td>143.0</td>\n",
       "      <td>11.0</td>\n",
       "      <td>...</td>\n",
       "      <td>2.5</td>\n",
       "      <td>4.4</td>\n",
       "      <td>113.0</td>\n",
       "      <td>36.11</td>\n",
       "      <td>22.0</td>\n",
       "      <td>30.7</td>\n",
       "      <td>32.0</td>\n",
       "      <td>0.8</td>\n",
       "      <td>72.0</td>\n",
       "      <td>7.39</td>\n",
       "    </tr>\n",
       "    <tr>\n",
       "      <th>2</th>\n",
       "      <td>0</td>\n",
       "      <td>45.82</td>\n",
       "      <td>11</td>\n",
       "      <td>-1195.71</td>\n",
       "      <td>0</td>\n",
       "      <td>91.0</td>\n",
       "      <td>74.0</td>\n",
       "      <td>94.0</td>\n",
       "      <td>133.0</td>\n",
       "      <td>34.0</td>\n",
       "      <td>...</td>\n",
       "      <td>2.4</td>\n",
       "      <td>2.3</td>\n",
       "      <td>98.0</td>\n",
       "      <td>38.50</td>\n",
       "      <td>31.0</td>\n",
       "      <td>30.5</td>\n",
       "      <td>32.0</td>\n",
       "      <td>0.8</td>\n",
       "      <td>72.0</td>\n",
       "      <td>7.39</td>\n",
       "    </tr>\n",
       "    <tr>\n",
       "      <th>3</th>\n",
       "      <td>0</td>\n",
       "      <td>52.01</td>\n",
       "      <td>13</td>\n",
       "      <td>-0.03</td>\n",
       "      <td>1</td>\n",
       "      <td>92.0</td>\n",
       "      <td>80.0</td>\n",
       "      <td>100.0</td>\n",
       "      <td>120.0</td>\n",
       "      <td>18.0</td>\n",
       "      <td>...</td>\n",
       "      <td>2.0</td>\n",
       "      <td>3.4</td>\n",
       "      <td>111.0</td>\n",
       "      <td>36.80</td>\n",
       "      <td>29.0</td>\n",
       "      <td>30.7</td>\n",
       "      <td>32.0</td>\n",
       "      <td>0.8</td>\n",
       "      <td>72.0</td>\n",
       "      <td>7.39</td>\n",
       "    </tr>\n",
       "    <tr>\n",
       "      <th>4</th>\n",
       "      <td>0</td>\n",
       "      <td>64.24</td>\n",
       "      <td>2</td>\n",
       "      <td>-0.05</td>\n",
       "      <td>1</td>\n",
       "      <td>155.5</td>\n",
       "      <td>102.0</td>\n",
       "      <td>94.5</td>\n",
       "      <td>147.5</td>\n",
       "      <td>33.0</td>\n",
       "      <td>...</td>\n",
       "      <td>1.9</td>\n",
       "      <td>3.8</td>\n",
       "      <td>113.0</td>\n",
       "      <td>36.80</td>\n",
       "      <td>13.0</td>\n",
       "      <td>26.6</td>\n",
       "      <td>452.0</td>\n",
       "      <td>1.4</td>\n",
       "      <td>88.0</td>\n",
       "      <td>7.22</td>\n",
       "    </tr>\n",
       "    <tr>\n",
       "      <th>...</th>\n",
       "      <td>...</td>\n",
       "      <td>...</td>\n",
       "      <td>...</td>\n",
       "      <td>...</td>\n",
       "      <td>...</td>\n",
       "      <td>...</td>\n",
       "      <td>...</td>\n",
       "      <td>...</td>\n",
       "      <td>...</td>\n",
       "      <td>...</td>\n",
       "      <td>...</td>\n",
       "      <td>...</td>\n",
       "      <td>...</td>\n",
       "      <td>...</td>\n",
       "      <td>...</td>\n",
       "      <td>...</td>\n",
       "      <td>...</td>\n",
       "      <td>...</td>\n",
       "      <td>...</td>\n",
       "      <td>...</td>\n",
       "      <td>...</td>\n",
       "    </tr>\n",
       "    <tr>\n",
       "      <th>36297</th>\n",
       "      <td>0</td>\n",
       "      <td>76.00</td>\n",
       "      <td>19</td>\n",
       "      <td>-14.90</td>\n",
       "      <td>1</td>\n",
       "      <td>59.0</td>\n",
       "      <td>110.0</td>\n",
       "      <td>95.0</td>\n",
       "      <td>154.0</td>\n",
       "      <td>14.0</td>\n",
       "      <td>...</td>\n",
       "      <td>2.0</td>\n",
       "      <td>3.0</td>\n",
       "      <td>106.0</td>\n",
       "      <td>36.80</td>\n",
       "      <td>24.0</td>\n",
       "      <td>30.7</td>\n",
       "      <td>32.0</td>\n",
       "      <td>0.8</td>\n",
       "      <td>72.0</td>\n",
       "      <td>7.39</td>\n",
       "    </tr>\n",
       "    <tr>\n",
       "      <th>36298</th>\n",
       "      <td>0</td>\n",
       "      <td>84.00</td>\n",
       "      <td>25</td>\n",
       "      <td>-6.69</td>\n",
       "      <td>0</td>\n",
       "      <td>81.0</td>\n",
       "      <td>71.0</td>\n",
       "      <td>99.0</td>\n",
       "      <td>122.0</td>\n",
       "      <td>20.0</td>\n",
       "      <td>...</td>\n",
       "      <td>2.3</td>\n",
       "      <td>3.4</td>\n",
       "      <td>106.0</td>\n",
       "      <td>36.80</td>\n",
       "      <td>24.0</td>\n",
       "      <td>30.7</td>\n",
       "      <td>849.0</td>\n",
       "      <td>3.3</td>\n",
       "      <td>259.0</td>\n",
       "      <td>7.39</td>\n",
       "    </tr>\n",
       "    <tr>\n",
       "      <th>36299</th>\n",
       "      <td>0</td>\n",
       "      <td>30.00</td>\n",
       "      <td>2</td>\n",
       "      <td>-0.02</td>\n",
       "      <td>1</td>\n",
       "      <td>76.0</td>\n",
       "      <td>79.0</td>\n",
       "      <td>96.0</td>\n",
       "      <td>118.0</td>\n",
       "      <td>14.0</td>\n",
       "      <td>...</td>\n",
       "      <td>2.0</td>\n",
       "      <td>3.4</td>\n",
       "      <td>106.0</td>\n",
       "      <td>36.30</td>\n",
       "      <td>24.0</td>\n",
       "      <td>38.2</td>\n",
       "      <td>24.0</td>\n",
       "      <td>0.7</td>\n",
       "      <td>116.0</td>\n",
       "      <td>7.39</td>\n",
       "    </tr>\n",
       "    <tr>\n",
       "      <th>36300</th>\n",
       "      <td>0</td>\n",
       "      <td>60.00</td>\n",
       "      <td>15</td>\n",
       "      <td>-53.64</td>\n",
       "      <td>0</td>\n",
       "      <td>76.0</td>\n",
       "      <td>102.0</td>\n",
       "      <td>89.0</td>\n",
       "      <td>145.0</td>\n",
       "      <td>18.0</td>\n",
       "      <td>...</td>\n",
       "      <td>1.9</td>\n",
       "      <td>4.1</td>\n",
       "      <td>106.0</td>\n",
       "      <td>36.80</td>\n",
       "      <td>24.0</td>\n",
       "      <td>30.7</td>\n",
       "      <td>9.0</td>\n",
       "      <td>0.2</td>\n",
       "      <td>68.0</td>\n",
       "      <td>7.39</td>\n",
       "    </tr>\n",
       "    <tr>\n",
       "      <th>36301</th>\n",
       "      <td>0</td>\n",
       "      <td>62.00</td>\n",
       "      <td>4</td>\n",
       "      <td>0.00</td>\n",
       "      <td>0</td>\n",
       "      <td>98.0</td>\n",
       "      <td>119.0</td>\n",
       "      <td>99.0</td>\n",
       "      <td>152.0</td>\n",
       "      <td>18.0</td>\n",
       "      <td>...</td>\n",
       "      <td>2.0</td>\n",
       "      <td>3.4</td>\n",
       "      <td>106.0</td>\n",
       "      <td>36.80</td>\n",
       "      <td>24.0</td>\n",
       "      <td>29.1</td>\n",
       "      <td>18.0</td>\n",
       "      <td>0.9</td>\n",
       "      <td>75.0</td>\n",
       "      <td>7.39</td>\n",
       "    </tr>\n",
       "  </tbody>\n",
       "</table>\n",
       "<p>36302 rows × 30 columns</p>\n",
       "</div>"
      ],
      "text/plain": [
       "       isSepsis    Age  ICULOS  HospAdmTime  Gender     HR    MAP  O2Sat  \\\n",
       "0             0  83.14      17        -0.03       0  103.0   80.0   90.0   \n",
       "1             0  75.91      10       -98.60       0   58.0   77.0   95.0   \n",
       "2             0  45.82      11     -1195.71       0   91.0   74.0   94.0   \n",
       "3             0  52.01      13        -0.03       1   92.0   80.0  100.0   \n",
       "4             0  64.24       2        -0.05       1  155.5  102.0   94.5   \n",
       "...         ...    ...     ...          ...     ...    ...    ...    ...   \n",
       "36297         0  76.00      19       -14.90       1   59.0  110.0   95.0   \n",
       "36298         0  84.00      25        -6.69       0   81.0   71.0   99.0   \n",
       "36299         0  30.00       2        -0.02       1   76.0   79.0   96.0   \n",
       "36300         0  60.00      15       -53.64       0   76.0  102.0   89.0   \n",
       "36301         0  62.00       4         0.00       0   98.0  119.0   99.0   \n",
       "\n",
       "         SBP  Resp  ...  Magnesium  Phosphate  Chloride   Temp  HCO3   PTT  \\\n",
       "0      120.0  30.0  ...        2.0        3.3      85.0  36.80  45.0  30.7   \n",
       "1      143.0  11.0  ...        2.5        4.4     113.0  36.11  22.0  30.7   \n",
       "2      133.0  34.0  ...        2.4        2.3      98.0  38.50  31.0  30.5   \n",
       "3      120.0  18.0  ...        2.0        3.4     111.0  36.80  29.0  30.7   \n",
       "4      147.5  33.0  ...        1.9        3.8     113.0  36.80  13.0  26.6   \n",
       "...      ...   ...  ...        ...        ...       ...    ...   ...   ...   \n",
       "36297  154.0  14.0  ...        2.0        3.0     106.0  36.80  24.0  30.7   \n",
       "36298  122.0  20.0  ...        2.3        3.4     106.0  36.80  24.0  30.7   \n",
       "36299  118.0  14.0  ...        2.0        3.4     106.0  36.30  24.0  38.2   \n",
       "36300  145.0  18.0  ...        1.9        4.1     106.0  36.80  24.0  30.7   \n",
       "36301  152.0  18.0  ...        2.0        3.4     106.0  36.80  24.0  29.1   \n",
       "\n",
       "         AST  Bilirubin_total  Alkalinephos    pH  \n",
       "0       16.0              0.3          98.0  7.37  \n",
       "1       32.0              0.8          72.0  7.39  \n",
       "2       32.0              0.8          72.0  7.39  \n",
       "3       32.0              0.8          72.0  7.39  \n",
       "4      452.0              1.4          88.0  7.22  \n",
       "...      ...              ...           ...   ...  \n",
       "36297   32.0              0.8          72.0  7.39  \n",
       "36298  849.0              3.3         259.0  7.39  \n",
       "36299   24.0              0.7         116.0  7.39  \n",
       "36300    9.0              0.2          68.0  7.39  \n",
       "36301   18.0              0.9          75.0  7.39  \n",
       "\n",
       "[36302 rows x 30 columns]"
      ]
     },
     "execution_count": 3,
     "metadata": {},
     "output_type": "execute_result"
    }
   ],
   "source": [
    "sepsis_df"
   ]
  },
  {
   "cell_type": "code",
   "execution_count": 4,
   "id": "creative-expression",
   "metadata": {},
   "outputs": [],
   "source": [
    "X = sepsis_df.drop(columns=['isSepsis'])\n",
    "y = sepsis_df.isSepsis"
   ]
  },
  {
   "cell_type": "code",
   "execution_count": 5,
   "id": "found-expense",
   "metadata": {},
   "outputs": [],
   "source": [
    "# splitting into train, val, test\n",
    "X_train, X_test, y_train, y_test = train_test_split(X, y, test_size=0.2, random_state=248)\n",
    "X_train, X_val, y_train, y_val = train_test_split(X_train, y_train, test_size=0.2, random_state=248)"
   ]
  },
  {
   "cell_type": "code",
   "execution_count": 6,
   "id": "marked-payment",
   "metadata": {},
   "outputs": [
    {
     "data": {
      "text/plain": [
       "Counter({0: 21519, 1: 1713})"
      ]
     },
     "execution_count": 6,
     "metadata": {},
     "output_type": "execute_result"
    }
   ],
   "source": [
    "# very imbalanced dataset, needs resampling!\n",
    "from collections import Counter\n",
    "Counter(y_train)"
   ]
  },
  {
   "cell_type": "markdown",
   "id": "acceptable-school",
   "metadata": {},
   "source": [
    "### Resampling using Random Oversampler, SMOTE, and ADASYN\n",
    "\n",
    "For the final model scores (Random Forest), SMOTE gave the best results in terms of fbeta (b=2), and scored higher in accuracy and precision, compared to ADASYN, so I have chosen to move forward with SMOTE for my resampling method."
   ]
  },
  {
   "cell_type": "code",
   "execution_count": 7,
   "id": "likely-chance",
   "metadata": {},
   "outputs": [],
   "source": [
    "# # resampling using random oversampling\n",
    "# from imblearn.over_sampling import RandomOverSampler\n",
    "# ros = RandomOverSampler(random_state=0)\n",
    "\n",
    "# X_train, y_train = ros.fit_resample(X_train,y_train)"
   ]
  },
  {
   "cell_type": "code",
   "execution_count": 8,
   "id": "judicial-hughes",
   "metadata": {},
   "outputs": [],
   "source": [
    "# resampling using SMOTE\n",
    "from imblearn.over_sampling import SMOTE\n",
    "\n",
    "X_train, y_train = SMOTE(random_state=42).fit_resample(X_train,y_train)"
   ]
  },
  {
   "cell_type": "code",
   "execution_count": 9,
   "id": "visible-approach",
   "metadata": {},
   "outputs": [],
   "source": [
    "# resampling using ADASYN\n",
    "# from imblearn.over_sampling import ADASYN\n",
    "\n",
    "# X_train, y_train = ADASYN(random_state=42).fit_resample(X_train,y_train)"
   ]
  },
  {
   "cell_type": "code",
   "execution_count": 10,
   "id": "seven-collins",
   "metadata": {},
   "outputs": [
    {
     "data": {
      "text/plain": [
       "Counter({0: 21519, 1: 21519})"
      ]
     },
     "execution_count": 10,
     "metadata": {},
     "output_type": "execute_result"
    }
   ],
   "source": [
    "Counter(y_train)"
   ]
  },
  {
   "cell_type": "code",
   "execution_count": 11,
   "id": "treated-white",
   "metadata": {},
   "outputs": [],
   "source": [
    "# import standard scaler\n",
    "scaler = StandardScaler()\n",
    "\n",
    "X_train_scaled = scaler.fit_transform(X_train)\n",
    "X_val_scaled = scaler.fit_transform(X_val)\n",
    "X_test_scaled = scaler.fit_transform(X_test)"
   ]
  },
  {
   "cell_type": "code",
   "execution_count": 12,
   "id": "outdoor-quarter",
   "metadata": {},
   "outputs": [],
   "source": [
    "from sklearn.metrics import make_scorer\n",
    "# creating a new scoring metric that uses beta = 2\n",
    "f_beta_2 = make_scorer(fbeta_score, beta=2)"
   ]
  },
  {
   "cell_type": "code",
   "execution_count": 13,
   "id": "guided-filling",
   "metadata": {},
   "outputs": [],
   "source": [
    "def scores(y_true, y_pred, model):\n",
    "    \n",
    "    model_score_df = pd.DataFrame()\n",
    "    accuracy = accuracy_score(y_true, y_pred)\n",
    "    precision = precision_score(y_true, y_pred)\n",
    "    recall = recall_score(y_true, y_pred)\n",
    "    f1 = f1_score(y_true, y_pred)\n",
    "    fbeta = fbeta_score(y_true, y_pred, beta=2) \n",
    "    \n",
    "    temp_df = pd.DataFrame([[str(model), accuracy, precision, recall, f1, fbeta]])\n",
    "        \n",
    "    model_score_df = pd.concat([model_score_df, temp_df])\n",
    "    model_score_df.columns = ['model', 'accuracy', 'precision', 'recall', 'f1', 'fbeta']\n",
    "    \n",
    "    return model_score_df"
   ]
  },
  {
   "cell_type": "code",
   "execution_count": 14,
   "id": "saved-symposium",
   "metadata": {},
   "outputs": [],
   "source": [
    "def make_confusion_matrix(model, threshold=0.5):\n",
    "    # Predict class 1 if probability of being in class 1 is greater than threshold\n",
    "    # (model.predict(X_test) does this automatically with a threshold of 0.5)\n",
    "    y_predict = (model.predict_proba(X_val_scaled)[:, 1] >= threshold)\n",
    "    sepsis_confusion = confusion_matrix(y_val, y_predict)\n",
    "    plt.figure(dpi=80)\n",
    "    sns.heatmap(sepsis_confusion, cmap=plt.cm.Blues, annot=True, square=True, fmt='d',\n",
    "           xticklabels=['No Sepsis', 'Sepsis'],\n",
    "           yticklabels=['No Sepsis', 'Sepsis']);\n",
    "    plt.xlabel('prediction')\n",
    "    plt.ylabel('actual')"
   ]
  },
  {
   "cell_type": "markdown",
   "id": "attractive-snapshot",
   "metadata": {},
   "source": [
    "## KNN"
   ]
  },
  {
   "cell_type": "code",
   "execution_count": 15,
   "id": "unexpected-scroll",
   "metadata": {},
   "outputs": [],
   "source": [
    "knn = KNeighborsClassifier(n_neighbors = 5, weights='distance')\n",
    "knn.fit(X_train_scaled, y_train)\n",
    "\n",
    "knn_train_pred = knn.predict(X_train_scaled)\n",
    "knn_val_pred = knn.predict(X_val_scaled)"
   ]
  },
  {
   "cell_type": "code",
   "execution_count": 16,
   "id": "abandoned-detroit",
   "metadata": {},
   "outputs": [
    {
     "data": {
      "text/html": [
       "<div>\n",
       "<style scoped>\n",
       "    .dataframe tbody tr th:only-of-type {\n",
       "        vertical-align: middle;\n",
       "    }\n",
       "\n",
       "    .dataframe tbody tr th {\n",
       "        vertical-align: top;\n",
       "    }\n",
       "\n",
       "    .dataframe thead th {\n",
       "        text-align: right;\n",
       "    }\n",
       "</style>\n",
       "<table border=\"1\" class=\"dataframe\">\n",
       "  <thead>\n",
       "    <tr style=\"text-align: right;\">\n",
       "      <th></th>\n",
       "      <th>model</th>\n",
       "      <th>accuracy</th>\n",
       "      <th>precision</th>\n",
       "      <th>recall</th>\n",
       "      <th>f1</th>\n",
       "      <th>fbeta</th>\n",
       "    </tr>\n",
       "  </thead>\n",
       "  <tbody>\n",
       "    <tr>\n",
       "      <th>0</th>\n",
       "      <td>knn</td>\n",
       "      <td>1.0</td>\n",
       "      <td>1.0</td>\n",
       "      <td>1.0</td>\n",
       "      <td>1.0</td>\n",
       "      <td>1.0</td>\n",
       "    </tr>\n",
       "  </tbody>\n",
       "</table>\n",
       "</div>"
      ],
      "text/plain": [
       "  model  accuracy  precision  recall   f1  fbeta\n",
       "0   knn       1.0        1.0     1.0  1.0    1.0"
      ]
     },
     "execution_count": 16,
     "metadata": {},
     "output_type": "execute_result"
    }
   ],
   "source": [
    "scores(y_train, knn_train_pred, 'knn')"
   ]
  },
  {
   "cell_type": "code",
   "execution_count": 17,
   "id": "proud-kentucky",
   "metadata": {},
   "outputs": [
    {
     "data": {
      "text/html": [
       "<div>\n",
       "<style scoped>\n",
       "    .dataframe tbody tr th:only-of-type {\n",
       "        vertical-align: middle;\n",
       "    }\n",
       "\n",
       "    .dataframe tbody tr th {\n",
       "        vertical-align: top;\n",
       "    }\n",
       "\n",
       "    .dataframe thead th {\n",
       "        text-align: right;\n",
       "    }\n",
       "</style>\n",
       "<table border=\"1\" class=\"dataframe\">\n",
       "  <thead>\n",
       "    <tr style=\"text-align: right;\">\n",
       "      <th></th>\n",
       "      <th>model</th>\n",
       "      <th>accuracy</th>\n",
       "      <th>precision</th>\n",
       "      <th>recall</th>\n",
       "      <th>f1</th>\n",
       "      <th>fbeta</th>\n",
       "    </tr>\n",
       "  </thead>\n",
       "  <tbody>\n",
       "    <tr>\n",
       "      <th>0</th>\n",
       "      <td>knn</td>\n",
       "      <td>0.659666</td>\n",
       "      <td>0.152203</td>\n",
       "      <td>0.826087</td>\n",
       "      <td>0.257046</td>\n",
       "      <td>0.438125</td>\n",
       "    </tr>\n",
       "  </tbody>\n",
       "</table>\n",
       "</div>"
      ],
      "text/plain": [
       "  model  accuracy  precision    recall        f1     fbeta\n",
       "0   knn  0.659666   0.152203  0.826087  0.257046  0.438125"
      ]
     },
     "execution_count": 17,
     "metadata": {},
     "output_type": "execute_result"
    }
   ],
   "source": [
    "scores(y_val, knn_val_pred, 'knn')"
   ]
  },
  {
   "cell_type": "code",
   "execution_count": 18,
   "id": "compact-reduction",
   "metadata": {},
   "outputs": [
    {
     "data": {
      "image/png": "[encoded data removed]",
      "text/plain": [
       "<Figure size 480x320 with 2 Axes>"
      ]
     },
     "metadata": {
      "needs_background": "light"
     },
     "output_type": "display_data"
    }
   ],
   "source": [
    "make_confusion_matrix(knn)"
   ]
  },
  {
   "cell_type": "markdown",
   "id": "trained-heath",
   "metadata": {},
   "source": [
    "## Logistic Regression"
   ]
  },
  {
   "cell_type": "code",
   "execution_count": 19,
   "id": "unauthorized-anthropology",
   "metadata": {},
   "outputs": [],
   "source": [
    "logit = LogisticRegression()\n",
    "logit.fit(X_train_scaled, y_train)\n",
    "\n",
    "logit_train_pred = logit.predict(X_train_scaled)\n",
    "logit_val_pred = logit.predict(X_val_scaled)"
   ]
  },
  {
   "cell_type": "code",
   "execution_count": 20,
   "id": "blond-setup",
   "metadata": {},
   "outputs": [
    {
     "data": {
      "text/html": [
       "<div>\n",
       "<style scoped>\n",
       "    .dataframe tbody tr th:only-of-type {\n",
       "        vertical-align: middle;\n",
       "    }\n",
       "\n",
       "    .dataframe tbody tr th {\n",
       "        vertical-align: top;\n",
       "    }\n",
       "\n",
       "    .dataframe thead th {\n",
       "        text-align: right;\n",
       "    }\n",
       "</style>\n",
       "<table border=\"1\" class=\"dataframe\">\n",
       "  <thead>\n",
       "    <tr style=\"text-align: right;\">\n",
       "      <th></th>\n",
       "      <th>model</th>\n",
       "      <th>accuracy</th>\n",
       "      <th>precision</th>\n",
       "      <th>recall</th>\n",
       "      <th>f1</th>\n",
       "      <th>fbeta</th>\n",
       "    </tr>\n",
       "  </thead>\n",
       "  <tbody>\n",
       "    <tr>\n",
       "      <th>0</th>\n",
       "      <td>logit</td>\n",
       "      <td>0.773967</td>\n",
       "      <td>0.808197</td>\n",
       "      <td>0.718435</td>\n",
       "      <td>0.760677</td>\n",
       "      <td>0.734756</td>\n",
       "    </tr>\n",
       "  </tbody>\n",
       "</table>\n",
       "</div>"
      ],
      "text/plain": [
       "   model  accuracy  precision    recall        f1     fbeta\n",
       "0  logit  0.773967   0.808197  0.718435  0.760677  0.734756"
      ]
     },
     "execution_count": 20,
     "metadata": {},
     "output_type": "execute_result"
    }
   ],
   "source": [
    "scores(y_train, logit_train_pred, 'logit')"
   ]
  },
  {
   "cell_type": "code",
   "execution_count": 21,
   "id": "focused-savannah",
   "metadata": {},
   "outputs": [
    {
     "data": {
      "text/html": [
       "<div>\n",
       "<style scoped>\n",
       "    .dataframe tbody tr th:only-of-type {\n",
       "        vertical-align: middle;\n",
       "    }\n",
       "\n",
       "    .dataframe tbody tr th {\n",
       "        vertical-align: top;\n",
       "    }\n",
       "\n",
       "    .dataframe thead th {\n",
       "        text-align: right;\n",
       "    }\n",
       "</style>\n",
       "<table border=\"1\" class=\"dataframe\">\n",
       "  <thead>\n",
       "    <tr style=\"text-align: right;\">\n",
       "      <th></th>\n",
       "      <th>model</th>\n",
       "      <th>accuracy</th>\n",
       "      <th>precision</th>\n",
       "      <th>recall</th>\n",
       "      <th>f1</th>\n",
       "      <th>fbeta</th>\n",
       "    </tr>\n",
       "  </thead>\n",
       "  <tbody>\n",
       "    <tr>\n",
       "      <th>0</th>\n",
       "      <td>logit</td>\n",
       "      <td>0.531761</td>\n",
       "      <td>0.113606</td>\n",
       "      <td>0.818841</td>\n",
       "      <td>0.199529</td>\n",
       "      <td>0.365302</td>\n",
       "    </tr>\n",
       "  </tbody>\n",
       "</table>\n",
       "</div>"
      ],
      "text/plain": [
       "   model  accuracy  precision    recall        f1     fbeta\n",
       "0  logit  0.531761   0.113606  0.818841  0.199529  0.365302"
      ]
     },
     "execution_count": 21,
     "metadata": {},
     "output_type": "execute_result"
    }
   ],
   "source": [
    "scores(y_val, logit_val_pred, 'logit')"
   ]
  },
  {
   "cell_type": "code",
   "execution_count": 22,
   "id": "associate-programming",
   "metadata": {},
   "outputs": [
    {
     "data": {
      "image/png": "[encoded data removed]",
      "text/plain": [
       "<Figure size 480x320 with 2 Axes>"
      ]
     },
     "metadata": {
      "needs_background": "light"
     },
     "output_type": "display_data"
    }
   ],
   "source": [
    "make_confusion_matrix(logit)"
   ]
  },
  {
   "cell_type": "markdown",
   "id": "naval-exploration",
   "metadata": {},
   "source": [
    "## Random Forest"
   ]
  },
  {
   "cell_type": "code",
   "execution_count": 23,
   "id": "concrete-temperature",
   "metadata": {},
   "outputs": [],
   "source": [
    "rf = RandomForestClassifier()\n",
    "rf.fit(X_train, y_train)\n",
    "\n",
    "rf_train_pred = rf.predict(X_train)\n",
    "rf_val_pred = rf.predict(X_val)"
   ]
  },
  {
   "cell_type": "code",
   "execution_count": 24,
   "id": "foster-apartment",
   "metadata": {},
   "outputs": [
    {
     "data": {
      "text/html": [
       "<div>\n",
       "<style scoped>\n",
       "    .dataframe tbody tr th:only-of-type {\n",
       "        vertical-align: middle;\n",
       "    }\n",
       "\n",
       "    .dataframe tbody tr th {\n",
       "        vertical-align: top;\n",
       "    }\n",
       "\n",
       "    .dataframe thead th {\n",
       "        text-align: right;\n",
       "    }\n",
       "</style>\n",
       "<table border=\"1\" class=\"dataframe\">\n",
       "  <thead>\n",
       "    <tr style=\"text-align: right;\">\n",
       "      <th></th>\n",
       "      <th>model</th>\n",
       "      <th>accuracy</th>\n",
       "      <th>precision</th>\n",
       "      <th>recall</th>\n",
       "      <th>f1</th>\n",
       "      <th>fbeta</th>\n",
       "    </tr>\n",
       "  </thead>\n",
       "  <tbody>\n",
       "    <tr>\n",
       "      <th>0</th>\n",
       "      <td>rf</td>\n",
       "      <td>1.0</td>\n",
       "      <td>1.0</td>\n",
       "      <td>1.0</td>\n",
       "      <td>1.0</td>\n",
       "      <td>1.0</td>\n",
       "    </tr>\n",
       "  </tbody>\n",
       "</table>\n",
       "</div>"
      ],
      "text/plain": [
       "  model  accuracy  precision  recall   f1  fbeta\n",
       "0    rf       1.0        1.0     1.0  1.0    1.0"
      ]
     },
     "execution_count": 24,
     "metadata": {},
     "output_type": "execute_result"
    }
   ],
   "source": [
    "scores(y_train, rf_train_pred, 'rf')"
   ]
  },
  {
   "cell_type": "code",
   "execution_count": 25,
   "id": "threatened-cloud",
   "metadata": {},
   "outputs": [
    {
     "data": {
      "text/html": [
       "<div>\n",
       "<style scoped>\n",
       "    .dataframe tbody tr th:only-of-type {\n",
       "        vertical-align: middle;\n",
       "    }\n",
       "\n",
       "    .dataframe tbody tr th {\n",
       "        vertical-align: top;\n",
       "    }\n",
       "\n",
       "    .dataframe thead th {\n",
       "        text-align: right;\n",
       "    }\n",
       "</style>\n",
       "<table border=\"1\" class=\"dataframe\">\n",
       "  <thead>\n",
       "    <tr style=\"text-align: right;\">\n",
       "      <th></th>\n",
       "      <th>model</th>\n",
       "      <th>accuracy</th>\n",
       "      <th>precision</th>\n",
       "      <th>recall</th>\n",
       "      <th>f1</th>\n",
       "      <th>fbeta</th>\n",
       "    </tr>\n",
       "  </thead>\n",
       "  <tbody>\n",
       "    <tr>\n",
       "      <th>0</th>\n",
       "      <td>rf</td>\n",
       "      <td>0.968669</td>\n",
       "      <td>0.792929</td>\n",
       "      <td>0.758454</td>\n",
       "      <td>0.775309</td>\n",
       "      <td>0.765107</td>\n",
       "    </tr>\n",
       "  </tbody>\n",
       "</table>\n",
       "</div>"
      ],
      "text/plain": [
       "  model  accuracy  precision    recall        f1     fbeta\n",
       "0    rf  0.968669   0.792929  0.758454  0.775309  0.765107"
      ]
     },
     "execution_count": 25,
     "metadata": {},
     "output_type": "execute_result"
    }
   ],
   "source": [
    "scores(y_val, rf_val_pred, 'rf')"
   ]
  },
  {
   "cell_type": "code",
   "execution_count": 26,
   "id": "urban-repository",
   "metadata": {},
   "outputs": [],
   "source": [
    "def make_confusion_matrix_unscaled(model, threshold=0.5):\n",
    "    # Predict class 1 if probability of being in class 1 is greater than threshold\n",
    "    # (model.predict(X_test) does this automatically with a threshold of 0.5)\n",
    "    y_predict = (model.predict_proba(X_val)[:, 1] >= threshold)\n",
    "    sepsis_confusion = confusion_matrix(y_val, y_predict)\n",
    "    plt.figure(dpi=80)\n",
    "    sns.heatmap(sepsis_confusion, cmap=plt.cm.Blues, annot=True, square=True, fmt='d',\n",
    "           xticklabels=['No Sepsis', 'Sepsis'],\n",
    "           yticklabels=['No Sepsis', 'Sepsis']);\n",
    "    plt.xlabel('prediction')\n",
    "    plt.ylabel('actual')"
   ]
  },
  {
   "cell_type": "code",
   "execution_count": 27,
   "id": "absent-schedule",
   "metadata": {},
   "outputs": [
    {
     "data": {
      "image/png": "[encoded data removed]",
      "text/plain": [
       "<Figure size 480x320 with 2 Axes>"
      ]
     },
     "metadata": {
      "needs_background": "light"
     },
     "output_type": "display_data"
    }
   ],
   "source": [
    "make_confusion_matrix_unscaled(rf)"
   ]
  },
  {
   "cell_type": "markdown",
   "id": "verified-holiday",
   "metadata": {},
   "source": [
    "## ROC AUC Curve"
   ]
  },
  {
   "cell_type": "code",
   "execution_count": 28,
   "id": "dressed-faculty",
   "metadata": {},
   "outputs": [],
   "source": [
    "knn_fpr, knn_tpr, knn_thresh = roc_curve(y_val, knn.predict_proba(X_val_scaled)[:,1])\n",
    "logit_fpr, logit_tpr, logit_thresh = roc_curve(y_val, logit.predict_proba(X_val_scaled)[:,1])\n",
    "rf_fpr, rf_tpr, rf_thresh = roc_curve(y_val, rf.predict_proba(X_val)[:,1])"
   ]
  },
  {
   "cell_type": "code",
   "execution_count": 29,
   "id": "endless-treat",
   "metadata": {},
   "outputs": [
    {
     "data": {
      "text/plain": [
       "<matplotlib.legend.Legend at 0x7fd9614fd550>"
      ]
     },
     "execution_count": 29,
     "metadata": {},
     "output_type": "execute_result"
    },
    {
     "data": {
      "image/png": "[encoded data removed]",
      "text/plain": [
       "<Figure size 432x288 with 1 Axes>"
      ]
     },
     "metadata": {
      "needs_background": "light"
     },
     "output_type": "display_data"
    }
   ],
   "source": [
    "# fpr, tpr, thresholds = roc_curve(y_val, rf.predict_proba(X_val)[:,1])\n",
    "\n",
    "roc_auc_knn = (roc_auc_score(y_val, knn.predict_proba(X_val_scaled)[:,1]))\n",
    "roc_auc_logit = (roc_auc_score(y_val, logit.predict_proba(X_val_scaled)[:,1]))\n",
    "roc_auc_rf = (roc_auc_score(y_val, rf.predict_proba(X_val)[:,1]))                    \n",
    "plt.plot(knn_fpr, knn_tpr, lw=2, label = f'KNN Curve (auc = {roc_auc_knn.round(3)})')\n",
    "plt.plot(logit_fpr, logit_tpr, lw=2, label = f'Log Reg Curve(auc = {roc_auc_logit.round(3)})')\n",
    "plt.plot(rf_fpr, rf_tpr, lw=2, label = f'Random Forest Curve (auc= {roc_auc_rf.round(3)})')\n",
    "\n",
    "\n",
    "\n",
    "\n",
    "\n",
    "plt.plot([0,1],[0,1],c='violet',ls='--')\n",
    "plt.xlim([-0.05,1.05])\n",
    "plt.ylim([-0.05,1.05])\n",
    "\n",
    "\n",
    "plt.xlabel('False positive rate')\n",
    "plt.ylabel('True positive rate')\n",
    "plt.title('ROC curves for Sepsis Classification');\n",
    "# print(\"ROC AUC score = \", roc_auc_score(y_val, rf.predict_proba(X_val)[:,1]))\n",
    "plt.legend(loc='lower right')"
   ]
  },
  {
   "cell_type": "code",
   "execution_count": 30,
   "id": "interesting-content",
   "metadata": {},
   "outputs": [],
   "source": [
    "fbeta_knn = fbeta_score(y_val, knn_val_pred, beta=2)\n",
    "fbeta_logit = fbeta_score(y_val, logit_val_pred, beta=2)\n",
    "fbeta_rf = fbeta_score(y_val, rf_val_pred, beta=2)"
   ]
  },
  {
   "cell_type": "code",
   "execution_count": 31,
   "id": "essential-translation",
   "metadata": {},
   "outputs": [],
   "source": [
    "f_beta_scores = {'model':['knn','logistic regression','random forest'],\n",
    "                 'score':[fbeta_score(y_val, knn_val_pred, beta=2),\n",
    "                          fbeta_score(y_val, logit_val_pred, beta=2),\n",
    "                         fbeta_score(y_val, rf_val_pred, beta=2)]}"
   ]
  },
  {
   "cell_type": "code",
   "execution_count": 32,
   "id": "electoral-portland",
   "metadata": {},
   "outputs": [
    {
     "data": {
      "text/plain": [
       "{'model': ['knn', 'logistic regression', 'random forest'],\n",
       " 'score': [0.43812451960030746, 0.36530172413793105, 0.7651072124756335]}"
      ]
     },
     "execution_count": 32,
     "metadata": {},
     "output_type": "execute_result"
    }
   ],
   "source": [
    "f_beta_scores"
   ]
  },
  {
   "cell_type": "code",
   "execution_count": 33,
   "id": "alleged-choir",
   "metadata": {},
   "outputs": [],
   "source": [
    "fbeta_df = pd.DataFrame.from_dict(f_beta_scores)"
   ]
  },
  {
   "cell_type": "code",
   "execution_count": 34,
   "id": "secondary-kruger",
   "metadata": {},
   "outputs": [
    {
     "data": {
      "text/html": [
       "<div>\n",
       "<style scoped>\n",
       "    .dataframe tbody tr th:only-of-type {\n",
       "        vertical-align: middle;\n",
       "    }\n",
       "\n",
       "    .dataframe tbody tr th {\n",
       "        vertical-align: top;\n",
       "    }\n",
       "\n",
       "    .dataframe thead th {\n",
       "        text-align: right;\n",
       "    }\n",
       "</style>\n",
       "<table border=\"1\" class=\"dataframe\">\n",
       "  <thead>\n",
       "    <tr style=\"text-align: right;\">\n",
       "      <th></th>\n",
       "      <th>model</th>\n",
       "      <th>score</th>\n",
       "    </tr>\n",
       "  </thead>\n",
       "  <tbody>\n",
       "    <tr>\n",
       "      <th>0</th>\n",
       "      <td>knn</td>\n",
       "      <td>0.438125</td>\n",
       "    </tr>\n",
       "    <tr>\n",
       "      <th>1</th>\n",
       "      <td>logistic regression</td>\n",
       "      <td>0.365302</td>\n",
       "    </tr>\n",
       "    <tr>\n",
       "      <th>2</th>\n",
       "      <td>random forest</td>\n",
       "      <td>0.765107</td>\n",
       "    </tr>\n",
       "  </tbody>\n",
       "</table>\n",
       "</div>"
      ],
      "text/plain": [
       "                 model     score\n",
       "0                  knn  0.438125\n",
       "1  logistic regression  0.365302\n",
       "2        random forest  0.765107"
      ]
     },
     "execution_count": 34,
     "metadata": {},
     "output_type": "execute_result"
    }
   ],
   "source": [
    "fbeta_df"
   ]
  },
  {
   "cell_type": "code",
   "execution_count": 35,
   "id": "southeast-cannon",
   "metadata": {},
   "outputs": [
    {
     "data": {
      "text/plain": [
       "Text(0.5, 1.0, 'Baseline F-beta (b=2) Scores')"
      ]
     },
     "execution_count": 35,
     "metadata": {},
     "output_type": "execute_result"
    },
    {
     "data": {
      "image/png": "[encoded data removed]",
      "text/plain": [
       "<Figure size 360x360 with 1 Axes>"
      ]
     },
     "metadata": {
      "needs_background": "light"
     },
     "output_type": "display_data"
    }
   ],
   "source": [
    "fbeta_df.plot(x = 'model', kind='bar', color='tab:purple', figsize=(5,5))\n",
    "plt.xticks(rotation=45)\n",
    "plt.xlabel('Models')\n",
    "plt.ylabel('Score')\n",
    "plt.title('Baseline F-beta (b=2) Scores')"
   ]
  },
  {
   "cell_type": "code",
   "execution_count": 36,
   "id": "promotional-monkey",
   "metadata": {},
   "outputs": [],
   "source": [
    "feature_importance_df = pd.DataFrame({'feat_importance':rf.feature_importances_}, index=X_val.columns).sort_values(by='feat_importance', ascending=False)"
   ]
  },
  {
   "cell_type": "code",
   "execution_count": 37,
   "id": "incident-boxing",
   "metadata": {},
   "outputs": [],
   "source": [
    "knn_scores = scores(y_val, knn_val_pred, 'knn')\n",
    "logit_scores = scores(y_val, logit_val_pred, 'logistic regression')\n",
    "rf_scores = scores(y_val, rf_val_pred, 'random forest')"
   ]
  },
  {
   "cell_type": "code",
   "execution_count": 38,
   "id": "exclusive-greece",
   "metadata": {},
   "outputs": [],
   "source": [
    "all_scores_df = knn_scores.append(logit_scores).append(rf_scores)"
   ]
  },
  {
   "cell_type": "code",
   "execution_count": 39,
   "id": "fallen-soldier",
   "metadata": {},
   "outputs": [
    {
     "data": {
      "text/html": [
       "<div>\n",
       "<style scoped>\n",
       "    .dataframe tbody tr th:only-of-type {\n",
       "        vertical-align: middle;\n",
       "    }\n",
       "\n",
       "    .dataframe tbody tr th {\n",
       "        vertical-align: top;\n",
       "    }\n",
       "\n",
       "    .dataframe thead th {\n",
       "        text-align: right;\n",
       "    }\n",
       "</style>\n",
       "<table border=\"1\" class=\"dataframe\">\n",
       "  <thead>\n",
       "    <tr style=\"text-align: right;\">\n",
       "      <th></th>\n",
       "      <th>model</th>\n",
       "      <th>accuracy</th>\n",
       "      <th>precision</th>\n",
       "      <th>recall</th>\n",
       "      <th>f1</th>\n",
       "      <th>fbeta</th>\n",
       "    </tr>\n",
       "  </thead>\n",
       "  <tbody>\n",
       "    <tr>\n",
       "      <th>0</th>\n",
       "      <td>knn</td>\n",
       "      <td>0.659666</td>\n",
       "      <td>0.152203</td>\n",
       "      <td>0.826087</td>\n",
       "      <td>0.257046</td>\n",
       "      <td>0.438125</td>\n",
       "    </tr>\n",
       "    <tr>\n",
       "      <th>0</th>\n",
       "      <td>logistic regression</td>\n",
       "      <td>0.531761</td>\n",
       "      <td>0.113606</td>\n",
       "      <td>0.818841</td>\n",
       "      <td>0.199529</td>\n",
       "      <td>0.365302</td>\n",
       "    </tr>\n",
       "    <tr>\n",
       "      <th>0</th>\n",
       "      <td>random forest</td>\n",
       "      <td>0.968669</td>\n",
       "      <td>0.792929</td>\n",
       "      <td>0.758454</td>\n",
       "      <td>0.775309</td>\n",
       "      <td>0.765107</td>\n",
       "    </tr>\n",
       "  </tbody>\n",
       "</table>\n",
       "</div>"
      ],
      "text/plain": [
       "                 model  accuracy  precision    recall        f1     fbeta\n",
       "0                  knn  0.659666   0.152203  0.826087  0.257046  0.438125\n",
       "0  logistic regression  0.531761   0.113606  0.818841  0.199529  0.365302\n",
       "0        random forest  0.968669   0.792929  0.758454  0.775309  0.765107"
      ]
     },
     "execution_count": 39,
     "metadata": {},
     "output_type": "execute_result"
    }
   ],
   "source": [
    "all_scores_df"
   ]
  },
  {
   "cell_type": "code",
   "execution_count": 40,
   "id": "common-theorem",
   "metadata": {},
   "outputs": [],
   "source": [
    "def score_visualizer(df):\n",
    "    ax = df.plot(x='model', kind='bar', figsize=(9,5))\n",
    "    \n",
    "    plt.xticks(rotation=45)\n",
    "    plt.xlabel('Models')\n",
    "    plt.ylabel('Score')\n",
    "    plt.title('Baseline Scores for All Models')\n",
    "    plt.legend(['accuracy','precision', 'recall', 'f1', 'fbeta'],shadow = True, loc = 2, bbox_to_anchor=(1.0, 0.5));"
   ]
  },
  {
   "cell_type": "code",
   "execution_count": 41,
   "id": "funky-brazilian",
   "metadata": {},
   "outputs": [
    {
     "data": {
      "image/png": "[encoded data removed]",
      "text/plain": [
       "<Figure size 648x360 with 1 Axes>"
      ]
     },
     "metadata": {
      "needs_background": "light"
     },
     "output_type": "display_data"
    }
   ],
   "source": [
    "score_visualizer(all_scores_df)"
   ]
  },
  {
   "cell_type": "code",
   "execution_count": null,
   "id": "incident-ghost",
   "metadata": {},
   "outputs": [],
   "source": []
  },
  {
   "cell_type": "code",
   "execution_count": null,
   "id": "noble-august",
   "metadata": {},
   "outputs": [],
   "source": []
  }
 ],
 "metadata": {
  "kernelspec": {
   "display_name": "Python [conda env:metis] *",
   "language": "python",
   "name": "conda-env-metis-py"
  },
  "language_info": {
   "codemirror_mode": {
    "name": "ipython",
    "version": 3
   },
   "file_extension": ".py",
   "mimetype": "text/x-python",
   "name": "python",
   "nbconvert_exporter": "python",
   "pygments_lexer": "ipython3",
   "version": "3.8.8"
  }
 },
 "nbformat": 4,
 "nbformat_minor": 5
}
