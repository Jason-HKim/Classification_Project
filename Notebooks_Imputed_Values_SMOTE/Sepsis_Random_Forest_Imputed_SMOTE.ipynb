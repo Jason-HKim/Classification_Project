{
 "cells": [
  {
   "cell_type": "code",
   "execution_count": 1,
   "id": "composed-rolling",
   "metadata": {},
   "outputs": [],
   "source": [
    "import pandas as pd\n",
    "import numpy as np\n",
    "\n",
    "import matplotlib.cm as cm\n",
    "\n",
    "import matplotlib.pyplot as plt\n",
    "import seaborn as sns\n",
    "\n",
    "from sklearn.model_selection import train_test_split\n",
    "from sklearn.metrics import confusion_matrix\n",
    "from sklearn.metrics import precision_score, recall_score, accuracy_score, roc_auc_score, roc_curve, precision_recall_curve, f1_score, fbeta_score\n",
    "from sklearn.tree import DecisionTreeClassifier\n",
    "from sklearn.ensemble import RandomForestClassifier\n",
    "from sklearn.linear_model import LogisticRegression\n",
    "from sklearn.metrics import log_loss"
   ]
  },
  {
   "cell_type": "code",
   "execution_count": 2,
   "id": "republican-liberty",
   "metadata": {},
   "outputs": [],
   "source": [
    "sepsis_df = pd.read_pickle(\"../data/sepsis_df_median_imputed.pkl\")\n",
    "\n",
    "# create X and y for model\n",
    "X = sepsis_df.drop(columns=['isSepsis'])\n",
    "y = sepsis_df.isSepsis\n",
    "\n",
    "# splitting data into Train, Val, & Test sets\n",
    "X_train, X_test, y_train, y_test = train_test_split(X, y, test_size=0.2, random_state=248)\n",
    "X_train, X_val, y_train, y_val = train_test_split(X_train, y_train, test_size=0.2, random_state=248)"
   ]
  },
  {
   "cell_type": "code",
   "execution_count": 3,
   "id": "according-avenue",
   "metadata": {},
   "outputs": [],
   "source": [
    "# # resampling using random oversampling\n",
    "# from imblearn.over_sampling import RandomOverSampler\n",
    "# ros = RandomOverSampler(random_state=0)\n",
    "\n",
    "# X_train, y_train = ros.fit_resample(X_train,y_train)"
   ]
  },
  {
   "cell_type": "code",
   "execution_count": 4,
   "id": "endless-packaging",
   "metadata": {},
   "outputs": [],
   "source": [
    "# resampling using SMOTE\n",
    "from imblearn.over_sampling import SMOTE\n",
    "\n",
    "X_train, y_train = SMOTE(random_state=42).fit_resample(X_train,y_train)"
   ]
  },
  {
   "cell_type": "code",
   "execution_count": 5,
   "id": "simplified-fault",
   "metadata": {},
   "outputs": [
    {
     "data": {
      "text/plain": [
       "Counter({0: 21519, 1: 21519})"
      ]
     },
     "execution_count": 5,
     "metadata": {},
     "output_type": "execute_result"
    }
   ],
   "source": [
    "from collections import Counter\n",
    "Counter(y_train)"
   ]
  },
  {
   "cell_type": "code",
   "execution_count": 6,
   "id": "stunning-beaver",
   "metadata": {},
   "outputs": [
    {
     "data": {
      "text/plain": [
       "Counter({0: 33655, 1: 2647})"
      ]
     },
     "execution_count": 6,
     "metadata": {},
     "output_type": "execute_result"
    }
   ],
   "source": [
    "Counter(y)"
   ]
  },
  {
   "cell_type": "markdown",
   "id": "entire-right",
   "metadata": {},
   "source": [
    "### Random Forest"
   ]
  },
  {
   "cell_type": "code",
   "execution_count": 7,
   "id": "wicked-cliff",
   "metadata": {},
   "outputs": [
    {
     "data": {
      "text/plain": [
       "RandomForestClassifier()"
      ]
     },
     "execution_count": 7,
     "metadata": {},
     "output_type": "execute_result"
    }
   ],
   "source": [
    "rf = RandomForestClassifier()\n",
    "rf.fit(X_train, y_train)"
   ]
  },
  {
   "cell_type": "code",
   "execution_count": 8,
   "id": "outer-carter",
   "metadata": {},
   "outputs": [],
   "source": [
    "y_train_pred = rf.predict(X_train)\n",
    "y_val_pred = rf.predict(X_val)"
   ]
  },
  {
   "cell_type": "code",
   "execution_count": 9,
   "id": "alien-request",
   "metadata": {},
   "outputs": [],
   "source": [
    "def scores(y_true, y_pred):\n",
    "    accuracy = accuracy_score(y_true, y_pred)\n",
    "    precision = precision_score(y_true, y_pred)\n",
    "    recall = recall_score(y_true, y_pred)\n",
    "    f1 = f1_score(y_true, y_pred)\n",
    "    fbeta = fbeta_score(y_true, y_pred, beta=2)\n",
    "\n",
    "    print(f'Accuracy score: {accuracy}')\n",
    "    print(f'Precision score: {precision}')\n",
    "    print(f'Recall: {recall}')\n",
    "    print(f'F1: {f1}')\n",
    "    print(f'F-beta (beta=2): {fbeta}')"
   ]
  },
  {
   "cell_type": "markdown",
   "id": "flush-confidence",
   "metadata": {},
   "source": [
    "#### Train Set Scores"
   ]
  },
  {
   "cell_type": "code",
   "execution_count": 10,
   "id": "confirmed-furniture",
   "metadata": {},
   "outputs": [
    {
     "name": "stdout",
     "output_type": "stream",
     "text": [
      "Accuracy score: 1.0\n",
      "Precision score: 1.0\n",
      "Recall: 1.0\n",
      "F1: 1.0\n",
      "F-beta (beta=2): 1.0\n"
     ]
    }
   ],
   "source": [
    "scores(y_train, y_train_pred)"
   ]
  },
  {
   "cell_type": "markdown",
   "id": "informational-botswana",
   "metadata": {},
   "source": [
    "#### Validation Set Scores"
   ]
  },
  {
   "cell_type": "code",
   "execution_count": 11,
   "id": "intellectual-artwork",
   "metadata": {},
   "outputs": [
    {
     "name": "stdout",
     "output_type": "stream",
     "text": [
      "Accuracy score: 0.9678085729041143\n",
      "Precision score: 0.7816377171215881\n",
      "Recall: 0.7608695652173914\n",
      "F1: 0.7711138310893514\n",
      "F-beta (beta=2): 0.7649344341913551\n"
     ]
    }
   ],
   "source": [
    "scores(y_val, y_val_pred)"
   ]
  },
  {
   "cell_type": "code",
   "execution_count": 12,
   "id": "fallen-oxford",
   "metadata": {},
   "outputs": [],
   "source": [
    "y_pred = rf.predict(X)"
   ]
  },
  {
   "cell_type": "code",
   "execution_count": 13,
   "id": "filled-authority",
   "metadata": {},
   "outputs": [
    {
     "name": "stdout",
     "output_type": "stream",
     "text": [
      "Accuracy score: 0.9878243622940884\n",
      "Precision score: 0.9228998849252014\n",
      "Recall: 0.9089535323007178\n",
      "F1: 0.9158736200989722\n",
      "F-beta (beta=2): 0.9117089806744979\n"
     ]
    }
   ],
   "source": [
    "scores(y, y_pred)"
   ]
  },
  {
   "cell_type": "markdown",
   "id": "athletic-reynolds",
   "metadata": {},
   "source": [
    "### Precision & Recall Curve"
   ]
  },
  {
   "cell_type": "code",
   "execution_count": 14,
   "id": "monthly-grant",
   "metadata": {},
   "outputs": [],
   "source": [
    "plt.style.use('ggplot')\n",
    "%matplotlib inline\n",
    "np.set_printoptions(suppress=True)"
   ]
  },
  {
   "cell_type": "code",
   "execution_count": 15,
   "id": "accepting-interview",
   "metadata": {},
   "outputs": [
    {
     "data": {
      "image/png": "[encoded data removed]",
      "text/plain": [
       "<Figure size 480x320 with 1 Axes>"
      ]
     },
     "metadata": {
      "needs_background": "light"
     },
     "output_type": "display_data"
    }
   ],
   "source": [
    "precision_curve, recall_curve, threshold_curve = precision_recall_curve(y_val, rf.predict_proba(X_val)[:,1] )\n",
    "\n",
    "plt.figure(dpi=80)\n",
    "plt.plot(threshold_curve, precision_curve[1:],label='precision')\n",
    "plt.plot(threshold_curve, recall_curve[1:], label='recall')\n",
    "plt.legend(loc='lower left')\n",
    "plt.xlabel('Threshold)');\n",
    "plt.title('Precision and Recall Curves');"
   ]
  },
  {
   "cell_type": "markdown",
   "id": "specific-korea",
   "metadata": {},
   "source": [
    "### RF Confusion Matrix"
   ]
  },
  {
   "cell_type": "code",
   "execution_count": 16,
   "id": "female-rolling",
   "metadata": {},
   "outputs": [],
   "source": [
    "def make_confusion_matrix(model, threshold=0.5):\n",
    "    # Predict class 1 if probability of being in class 1 is greater than threshold\n",
    "    # (model.predict(X_test) does this automatically with a threshold of 0.5)\n",
    "    y_predict = (model.predict_proba(X_val)[:, 1] >= threshold)\n",
    "    sepsis_confusion = confusion_matrix(y_val, y_predict)\n",
    "    plt.figure(dpi=80)\n",
    "    sns.heatmap(sepsis_confusion, cmap=plt.cm.Blues, annot=True, square=True, fmt='d',\n",
    "           xticklabels=['No Sepsis', 'Sepsis'],\n",
    "           yticklabels=['No Sepsis', 'Sepsis']);\n",
    "    plt.xlabel('prediction')\n",
    "    plt.ylabel('actual')\n",
    "    plt.title('Logistic Regression confusion matrix');"
   ]
  },
  {
   "cell_type": "code",
   "execution_count": 17,
   "id": "automatic-victor",
   "metadata": {},
   "outputs": [
    {
     "data": {
      "image/png": "[encoded data removed]",
      "text/plain": [
       "<Figure size 480x320 with 2 Axes>"
      ]
     },
     "metadata": {
      "needs_background": "light"
     },
     "output_type": "display_data"
    }
   ],
   "source": [
    "make_confusion_matrix(rf)"
   ]
  },
  {
   "cell_type": "code",
   "execution_count": 18,
   "id": "taken-visiting",
   "metadata": {},
   "outputs": [],
   "source": [
    "def make_confusion_matrix_all(model, threshold=0.5):\n",
    "    # Predict class 1 if probability of being in class 1 is greater than threshold\n",
    "    # (model.predict(X_test) does this automatically with a threshold of 0.5)\n",
    "    y_predict = (model.predict_proba(X)[:, 1] >= threshold)\n",
    "    sepsis_confusion = confusion_matrix(y, y_predict)\n",
    "    plt.figure(dpi=80)\n",
    "    sns.heatmap(sepsis_confusion, cmap=plt.cm.Blues, annot=True, square=True, fmt='d',\n",
    "           xticklabels=['No Sepsis', 'Sepsis'],\n",
    "           yticklabels=['No Sepsis', 'Sepsis']);\n",
    "    plt.xlabel('prediction')\n",
    "    plt.ylabel('actual')\n",
    "    plt.title('Logistic Regression confusion matrix');"
   ]
  },
  {
   "cell_type": "code",
   "execution_count": 19,
   "id": "juvenile-yugoslavia",
   "metadata": {},
   "outputs": [
    {
     "data": {
      "image/png": "[encoded data removed]",
      "text/plain": [
       "<Figure size 480x320 with 2 Axes>"
      ]
     },
     "metadata": {
      "needs_background": "light"
     },
     "output_type": "display_data"
    }
   ],
   "source": [
    "make_confusion_matrix_all(rf)"
   ]
  },
  {
   "cell_type": "code",
   "execution_count": 20,
   "id": "executive-hierarchy",
   "metadata": {},
   "outputs": [
    {
     "data": {
      "application/vnd.jupyter.widget-view+json": {
       "model_id": "6b51c162aa7a4e05931e5c6a90047763",
       "version_major": 2,
       "version_minor": 0
      },
      "text/plain": [
       "interactive(children=(FloatSlider(value=0.5, description='threshold', max=1.0, step=0.02), Output()), _dom_cla…"
      ]
     },
     "metadata": {},
     "output_type": "display_data"
    }
   ],
   "source": [
    "from ipywidgets import interactive, FloatSlider\n",
    "interactive(lambda threshold: make_confusion_matrix_all(rf, threshold), threshold=(0.0,1.0,0.02))"
   ]
  },
  {
   "cell_type": "markdown",
   "id": "contrary-judgment",
   "metadata": {},
   "source": [
    "### ROC Curve"
   ]
  },
  {
   "cell_type": "code",
   "execution_count": 21,
   "id": "north-mistake",
   "metadata": {},
   "outputs": [],
   "source": [
    "fpr, tpr, thresholds = roc_curve(y_val, rf.predict_proba(X_val)[:,1])"
   ]
  },
  {
   "cell_type": "code",
   "execution_count": 22,
   "id": "excessive-rates",
   "metadata": {},
   "outputs": [
    {
     "name": "stdout",
     "output_type": "stream",
     "text": [
      "ROC AUC score =  0.9472124842737729\n"
     ]
    },
    {
     "data": {
      "image/png": "[encoded data removed]",
      "text/plain": [
       "<Figure size 432x288 with 1 Axes>"
      ]
     },
     "metadata": {
      "needs_background": "light"
     },
     "output_type": "display_data"
    }
   ],
   "source": [
    "plt.plot(fpr, tpr,lw=2)\n",
    "plt.plot([0,1],[0,1],c='violet',ls='--')\n",
    "plt.xlim([-0.05,1.05])\n",
    "plt.ylim([-0.05,1.05])\n",
    "\n",
    "\n",
    "plt.xlabel('False positive rate')\n",
    "plt.ylabel('True positive rate')\n",
    "plt.title('ROC curve for Sepsis Classification');\n",
    "print(\"ROC AUC score = \", roc_auc_score(y_val, rf.predict_proba(X_val)[:,1]))"
   ]
  },
  {
   "cell_type": "markdown",
   "id": "removable-reasoning",
   "metadata": {},
   "source": [
    "### Log Loss"
   ]
  },
  {
   "cell_type": "code",
   "execution_count": 23,
   "id": "explicit-genesis",
   "metadata": {},
   "outputs": [
    {
     "name": "stdout",
     "output_type": "stream",
     "text": [
      "Log-loss on Random Forest Model: 0.1477\n"
     ]
    }
   ],
   "source": [
    "print(\"Log-loss on Random Forest Model: {:6.4f}\".format(log_loss(y_val, rf.predict_proba(X_val))))"
   ]
  },
  {
   "cell_type": "markdown",
   "id": "tender-fashion",
   "metadata": {},
   "source": [
    "### Feature Importance"
   ]
  },
  {
   "cell_type": "code",
   "execution_count": 24,
   "id": "accredited-macintosh",
   "metadata": {},
   "outputs": [],
   "source": [
    "feature_importance_df = pd.DataFrame({'feat_importance':rf.feature_importances_}, index=X_val.columns).sort_values(by='feat_importance', ascending=False)"
   ]
  },
  {
   "cell_type": "code",
   "execution_count": 25,
   "id": "passing-geneva",
   "metadata": {},
   "outputs": [
    {
     "data": {
      "text/html": [
       "<div>\n",
       "<style scoped>\n",
       "    .dataframe tbody tr th:only-of-type {\n",
       "        vertical-align: middle;\n",
       "    }\n",
       "\n",
       "    .dataframe tbody tr th {\n",
       "        vertical-align: top;\n",
       "    }\n",
       "\n",
       "    .dataframe thead th {\n",
       "        text-align: right;\n",
       "    }\n",
       "</style>\n",
       "<table border=\"1\" class=\"dataframe\">\n",
       "  <thead>\n",
       "    <tr style=\"text-align: right;\">\n",
       "      <th></th>\n",
       "      <th>feat_importance</th>\n",
       "    </tr>\n",
       "  </thead>\n",
       "  <tbody>\n",
       "    <tr>\n",
       "      <th>ICULOS</th>\n",
       "      <td>0.213926</td>\n",
       "    </tr>\n",
       "    <tr>\n",
       "      <th>BUN</th>\n",
       "      <td>0.072011</td>\n",
       "    </tr>\n",
       "    <tr>\n",
       "      <th>Creatinine</th>\n",
       "      <td>0.064413</td>\n",
       "    </tr>\n",
       "    <tr>\n",
       "      <th>Hgb</th>\n",
       "      <td>0.062928</td>\n",
       "    </tr>\n",
       "    <tr>\n",
       "      <th>Platelets</th>\n",
       "      <td>0.059909</td>\n",
       "    </tr>\n",
       "    <tr>\n",
       "      <th>Hct</th>\n",
       "      <td>0.051486</td>\n",
       "    </tr>\n",
       "    <tr>\n",
       "      <th>Magnesium</th>\n",
       "      <td>0.043967</td>\n",
       "    </tr>\n",
       "    <tr>\n",
       "      <th>WBC</th>\n",
       "      <td>0.043864</td>\n",
       "    </tr>\n",
       "    <tr>\n",
       "      <th>Calcium</th>\n",
       "      <td>0.034649</td>\n",
       "    </tr>\n",
       "    <tr>\n",
       "      <th>O2Sat</th>\n",
       "      <td>0.031326</td>\n",
       "    </tr>\n",
       "    <tr>\n",
       "      <th>Temp</th>\n",
       "      <td>0.027113</td>\n",
       "    </tr>\n",
       "    <tr>\n",
       "      <th>Resp</th>\n",
       "      <td>0.026224</td>\n",
       "    </tr>\n",
       "    <tr>\n",
       "      <th>HospAdmTime</th>\n",
       "      <td>0.023589</td>\n",
       "    </tr>\n",
       "    <tr>\n",
       "      <th>pH</th>\n",
       "      <td>0.022321</td>\n",
       "    </tr>\n",
       "    <tr>\n",
       "      <th>Glucose</th>\n",
       "      <td>0.021841</td>\n",
       "    </tr>\n",
       "    <tr>\n",
       "      <th>HR</th>\n",
       "      <td>0.021473</td>\n",
       "    </tr>\n",
       "    <tr>\n",
       "      <th>HCO3</th>\n",
       "      <td>0.020711</td>\n",
       "    </tr>\n",
       "    <tr>\n",
       "      <th>Chloride</th>\n",
       "      <td>0.016707</td>\n",
       "    </tr>\n",
       "    <tr>\n",
       "      <th>Potassium</th>\n",
       "      <td>0.016066</td>\n",
       "    </tr>\n",
       "    <tr>\n",
       "      <th>PTT</th>\n",
       "      <td>0.015242</td>\n",
       "    </tr>\n",
       "    <tr>\n",
       "      <th>Age</th>\n",
       "      <td>0.015179</td>\n",
       "    </tr>\n",
       "    <tr>\n",
       "      <th>DBP</th>\n",
       "      <td>0.014880</td>\n",
       "    </tr>\n",
       "    <tr>\n",
       "      <th>SBP</th>\n",
       "      <td>0.014828</td>\n",
       "    </tr>\n",
       "    <tr>\n",
       "      <th>Phosphate</th>\n",
       "      <td>0.013800</td>\n",
       "    </tr>\n",
       "    <tr>\n",
       "      <th>MAP</th>\n",
       "      <td>0.013450</td>\n",
       "    </tr>\n",
       "    <tr>\n",
       "      <th>Gender</th>\n",
       "      <td>0.010614</td>\n",
       "    </tr>\n",
       "    <tr>\n",
       "      <th>Bilirubin_total</th>\n",
       "      <td>0.010374</td>\n",
       "    </tr>\n",
       "    <tr>\n",
       "      <th>AST</th>\n",
       "      <td>0.009487</td>\n",
       "    </tr>\n",
       "    <tr>\n",
       "      <th>Alkalinephos</th>\n",
       "      <td>0.007619</td>\n",
       "    </tr>\n",
       "  </tbody>\n",
       "</table>\n",
       "</div>"
      ],
      "text/plain": [
       "                 feat_importance\n",
       "ICULOS                  0.213926\n",
       "BUN                     0.072011\n",
       "Creatinine              0.064413\n",
       "Hgb                     0.062928\n",
       "Platelets               0.059909\n",
       "Hct                     0.051486\n",
       "Magnesium               0.043967\n",
       "WBC                     0.043864\n",
       "Calcium                 0.034649\n",
       "O2Sat                   0.031326\n",
       "Temp                    0.027113\n",
       "Resp                    0.026224\n",
       "HospAdmTime             0.023589\n",
       "pH                      0.022321\n",
       "Glucose                 0.021841\n",
       "HR                      0.021473\n",
       "HCO3                    0.020711\n",
       "Chloride                0.016707\n",
       "Potassium               0.016066\n",
       "PTT                     0.015242\n",
       "Age                     0.015179\n",
       "DBP                     0.014880\n",
       "SBP                     0.014828\n",
       "Phosphate               0.013800\n",
       "MAP                     0.013450\n",
       "Gender                  0.010614\n",
       "Bilirubin_total         0.010374\n",
       "AST                     0.009487\n",
       "Alkalinephos            0.007619"
      ]
     },
     "execution_count": 25,
     "metadata": {},
     "output_type": "execute_result"
    }
   ],
   "source": [
    "feature_importance_df"
   ]
  },
  {
   "cell_type": "code",
   "execution_count": null,
   "id": "handmade-protocol",
   "metadata": {},
   "outputs": [],
   "source": []
  }
 ],
 "metadata": {
  "kernelspec": {
   "display_name": "Python [conda env:metis] *",
   "language": "python",
   "name": "conda-env-metis-py"
  },
  "language_info": {
   "codemirror_mode": {
    "name": "ipython",
    "version": 3
   },
   "file_extension": ".py",
   "mimetype": "text/x-python",
   "name": "python",
   "nbconvert_exporter": "python",
   "pygments_lexer": "ipython3",
   "version": "3.8.8"
  }
 },
 "nbformat": 4,
 "nbformat_minor": 5
}
